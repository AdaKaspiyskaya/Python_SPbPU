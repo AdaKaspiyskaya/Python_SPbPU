{
  "cells": [
    {
      "cell_type": "markdown",
      "metadata": {
        "id": "65rym4wyexZA"
      },
      "source": [
        "# Теоретический минимум по теме \"Алгоритмы поиска\"\n",
        "\n",
        "## Зачем используются\n",
        "Алгоритмы поиска используются для нахождения заданного элемента в массиве, списке или другой структуре данных. Выбор алгоритма зависит от структуры данных, объема входных данных и требований к скорости выполнения.\n",
        "\n",
        "\n",
        "---\n",
        "# Материалы\n",
        "https://vk.com/video-62468751_456240449\n",
        "\n",
        "https://vkvideo.ru/video-151213012_456239017\n",
        "\n",
        "https://vk.com/video302513503_456239525\n",
        "\n",
        "Адитья Бхаргава - Грокаем алгоритмы. Иллюстрированное пособие для программистов и любопытствующих (2017, Питер)\n",
        "\n",
        "---\n",
        "\n",
        "# Задачи по теме \"Алгоритмы поиска\""
      ]
    },
    {
      "cell_type": "markdown",
      "metadata": {
        "id": "Z-Xjo7zMNlw3"
      },
      "source": [
        "## 1. Найти первый элемент\n",
        "\n",
        "**Задание:**  \n",
        "У вас есть список чисел. Ваша задача — написать функцию, которая возвращает первый элемент списка.\n",
        "\n",
        "\n",
        "**Формат вывода:**\n",
        "\n",
        "Найденный элемент\n",
        "\n",
        "Какая Big O этого алгоритма?"
      ]
    },
    {
      "cell_type": "code",
      "execution_count": null,
      "metadata": {
        "id": "SN9ylQTQNmBg"
      },
      "outputs": [
        {
          "data": {
            "text/plain": [
              "1"
            ]
          },
          "execution_count": 1,
          "metadata": {},
          "output_type": "execute_result"
        }
      ],
      "source": [
        "l = [1,2,3,4,5,6,7,8,9,0]\n",
        "def first(a):\n",
        "    return a[0]\n",
        "first(l)\n",
        "\n",
        "# O(1)"
      ]
    },
    {
      "cell_type": "markdown",
      "metadata": {
        "id": "aaGawtbzhqKl"
      },
      "source": [
        "## 2. Линейный поиск  \n",
        "\n",
        "**Задание:**  \n",
        "Напишите простейший алгоритм, который проходит по массиву и сравнивает каждый элемент с искомым значением.  \n",
        "\n",
        "\n",
        "**Формат вывода:**\n",
        "\n",
        "Индекс найденного элемента\n",
        "\n",
        "Какая Big O этого алгоритма?"
      ]
    },
    {
      "cell_type": "code",
      "execution_count": 16,
      "metadata": {
        "colab": {
          "base_uri": "https://localhost:8080/"
        },
        "id": "ByFl_a5OhoCR",
        "outputId": "6c574be9-d23d-4b90-9636-8d334844c405"
      },
      "outputs": [
        {
          "name": "stdout",
          "output_type": "stream",
          "text": [
            "2\n",
            "3\n"
          ]
        }
      ],
      "source": [
        "l = [1,2,3,3,4]\n",
        "a = 3\n",
        "for i in range(len(l)):\n",
        "    if a == l[i]: print(i)\n",
        "# O(n)"
      ]
    },
    {
      "cell_type": "markdown",
      "metadata": {
        "id": "UIWphjDSh8d0"
      },
      "source": [
        "## 3. Бинарный поиск\n",
        "**Задание:**\n",
        "\n",
        "Напишите эффективный алгоритм для упорядоченных массивов. Работает по принципу \"разделяй и властвуй\":\n",
        "\n",
        "Сравнивает искомый элемент с центральным.\n",
        "\n",
        "Если элемент меньше — ищем в левой половине, если больше — в правой.\n",
        "\n",
        "Повторяем процесс, пока не найдем элемент или не останется элементов.\n",
        "\n",
        "\n",
        "**Формат вывода:**\n",
        "\n",
        "\n",
        "Индекс найденного элемента\n",
        "\n",
        "Какая Big O этого алгоритма? Какие требования к массиву данных?\n",
        "\n",
        "**log(n). Отсортированность и доступность по индексу (массивы или кортежи)**"
      ]
    },
    {
      "cell_type": "code",
      "execution_count": 15,
      "metadata": {
        "id": "LseGW0kpiS1s"
      },
      "outputs": [
        {
          "data": {
            "text/plain": [
              "1"
            ]
          },
          "execution_count": 15,
          "metadata": {},
          "output_type": "execute_result"
        }
      ],
      "source": [
        "arr = (0, 5, 10, 15, 20, 25, 30, 35, 40, 45, 50)\n",
        "def bins(f, a):\n",
        "    low = 0\n",
        "    high = len(f) - 1\n",
        "    while low <= high:\n",
        "        mid = (low + high) // 2\n",
        "        if a == f[mid]: return mid\n",
        "        elif a < f[mid]: high = mid - 1\n",
        "        else: low = mid + 1\n",
        "    return None\n",
        "\n",
        "bins(arr, 5)\n"
      ]
    },
    {
      "cell_type": "markdown",
      "metadata": {
        "id": "h5NaRCeji99S"
      },
      "source": [
        "## 4. Интерполяционный поиск\n",
        "**Задание:**\n",
        "\n",
        "Напишите улучшенная версия бинарного поиска. Вы заранее знаете, что данные равномерно распределены. Вместо деления массива пополам вычисляйте приблизительное положение искомого элемента.\n",
        "\n",
        "**Формат вывода:**\n",
        "\n",
        "Индекс найденного элемента\n",
        "\n",
        "Какая Big O этого алгоритма? Какие требования к массиву данных?\n",
        "\n",
        "**O(log log n), отсортированность и равномерное распределение**"
      ]
    },
    {
      "cell_type": "code",
      "execution_count": 24,
      "metadata": {
        "id": "5efo_fzpjMCs"
      },
      "outputs": [
        {
          "data": {
            "text/plain": [
              "1"
            ]
          },
          "execution_count": 24,
          "metadata": {},
          "output_type": "execute_result"
        }
      ],
      "source": [
        "arr = (0, 5, 10, 15, 20, 25, 30, 35, 40, 45, 50)\n",
        "\n",
        "def ints(f, x):\n",
        "    low = 0 \n",
        "    high = len(f) - 1\n",
        "    while f[low] < x and x < f[high]:\n",
        "        mid = low + (x - f[low]) // (f[high] - f[low]) * (high - low)                \n",
        "        if f[mid] < x:\n",
        "            low = mid + 1\n",
        "        elif f[mid] > x:\n",
        "            high = mid - 1\n",
        "        else: return mid   \n",
        "    if f[low] == x:\n",
        "        return low\n",
        "    elif f[high] == x:\n",
        "        return high\n",
        "    else: return None\n",
        "\n",
        "ints(arr, 5)"
      ]
    },
    {
      "cell_type": "markdown",
      "metadata": {
        "id": "dacySgMpjM5_"
      },
      "source": [
        "## 5. Поиск в строках. Алгоритм Кнута-Морриса-Пратта (KMP)\n",
        "**Задание:**\n",
        "Алгоритм Кнута-Морриса-Пратта (KMP) используется для поиска подстроки (шаблона) в строке. Он предварительно строит префикс-функцию (π-функцию), которая позволяет избегать повторных сравнений.\n",
        "\n",
        "**Шаги реализации:**\n",
        "\n",
        "Реализовать функцию compute_prefix_function(pattern), которая строит массив префикс-функции.\n",
        "Реализовать функцию kmp_search(text, pattern), которая использует префикс-функцию для поиска подстроки.\n",
        "Формат ввода:\n",
        "\n",
        "text — строка, в которой выполняется поиск.\n",
        "pattern — подстрока, которую необходимо найти.\n",
        "\n",
        "**Формат вывода:**\n",
        "\n",
        "Индексы всех вхождений pattern в text.\n"
      ]
    },
    {
      "cell_type": "code",
      "execution_count": 15,
      "metadata": {
        "id": "bwDKd05JjNC1"
      },
      "outputs": [
        {
          "name": "stdout",
          "output_type": "stream",
          "text": [
            "Индексы всех вхождений [1, 3, 5]\n"
          ]
        }
      ],
      "source": [
        "def compute_prefix_function(pattern):\n",
        "    m = len(pattern)\n",
        "    arr = [0] * m  \n",
        "    j = 0  \n",
        "    for i in range(1, m):\n",
        "        while (j > 0 and pattern[i] != pattern[j]):\n",
        "            j = arr[j - 1]  \n",
        "        if pattern[i] == pattern[j]:\n",
        "            j += 1\n",
        "        arr[i] = j  \n",
        "    return arr\n",
        "\n",
        "def kmp_search(text, pattern):\n",
        "    n = len(text)\n",
        "    m = len(pattern)\n",
        "    arr = compute_prefix_function(pattern) \n",
        "    j = 0  \n",
        "    a = [] \n",
        "    for i in range(n): \n",
        "        while (j > 0 and text[i] != pattern[j]):\n",
        "            j = arr[j - 1]  \n",
        "        if text[i] == pattern[j]:\n",
        "            j += 1\n",
        "        if j == m: \n",
        "            a.append(i - m + 1)  \n",
        "            j = arr[j - 1]  \n",
        "\n",
        "    return a\n",
        "\n",
        "text = \"ahahahah\"\n",
        "pattern = \"hah\"\n",
        "result = kmp_search(text, pattern)\n",
        "print(\"Индексы всех вхождений\", result)\n"
      ]
    },
    {
      "cell_type": "code",
      "execution_count": null,
      "metadata": {},
      "outputs": [],
      "source": []
    }
  ],
  "metadata": {
    "colab": {
      "provenance": []
    },
    "kernelspec": {
      "display_name": "Python 3",
      "name": "python3"
    },
    "language_info": {
      "codemirror_mode": {
        "name": "ipython",
        "version": 3
      },
      "file_extension": ".py",
      "mimetype": "text/x-python",
      "name": "python",
      "nbconvert_exporter": "python",
      "pygments_lexer": "ipython3",
      "version": "3.11.9"
    }
  },
  "nbformat": 4,
  "nbformat_minor": 0
}

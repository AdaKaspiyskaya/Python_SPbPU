{
  "cells": [
    {
      "cell_type": "markdown",
      "metadata": {
        "id": "65rym4wyexZA"
      },
      "source": [
        "# 📌 Урок: Алгоритмы сортировки\n",
        "\n",
        "## 📖 Теоретический минимум\n",
        "\n",
        "### 🔹 Что такое алгоритмы сортировки?\n",
        "Алгоритмы сортировки — это методы упорядочивания элементов массива (или списка) в определённом порядке, например, по возрастанию или убыванию.\n",
        "\n",
        "### 🔹 Основные виды сортировок\n",
        "#### 1. Простые сортировки\n",
        "- **Сортировка пузырьком** (Bubble Sort) — O(n²)  \n",
        "  Последовательно сравнивает пары элементов и меняет их местами, если они стоят не в том порядке.\n",
        "- **Сортировка вставками** (Insertion Sort) — O(n²)  \n",
        "  Каждый новый элемент вставляется в уже отсортированную часть массива.\n",
        "- **Сортировка выбором** (Selection Sort) — O(n²)  \n",
        "  Находит минимум и ставит его на правильное место.\n",
        "\n",
        "#### 2. Эффективные сортировки\n",
        "- **Быстрая сортировка** (Quick Sort) — O(n log n) в среднем  \n",
        "  Разделяет массив на два подмассива относительно опорного элемента и рекурсивно сортирует их.\n",
        "- **Сортировка слиянием** (Merge Sort) — O(n log n)  \n",
        "  Делит массив пополам, сортирует обе части и сливает обратно.\n",
        "- **Сортировка кучей** (Heap Sort) — O(n log n)  \n",
        "  Использует структуру данных \"куча\" для эффективной сортировки.\n",
        "\n",
        "#### 3. Специальные сортировки\n",
        "- **Поразрядная сортировка** (Radix Sort) — O(nk)  \n",
        "  Применяется для чисел, сортирует поразрядно.\n",
        "- **Сортировка подсчётом** (Counting Sort) — O(n + k)  \n",
        "  Эффективна, если диапазон значений ограничен.\n",
        "\n",
        "## 📖 Материалы\n",
        "https://vk.com/video-60205820_456239070\n",
        "\n",
        "https://vk.com/video313356016_456239176\n",
        "\n",
        "https://vk.com/video-145052891_456246016\n",
        "\n",
        "https://education.yandex.ru/journal/osnovnye-vidy-sortirovok-i-primery-ikh-realizatsii\n",
        "\n",
        "---\n"
      ]
    },
    {
      "cell_type": "markdown",
      "metadata": {
        "id": "vBGTQmKE3Qvu"
      },
      "source": [
        "# 🏆 Задания\n",
        "\n",
        "## 1️⃣ Вспомните как стандартой python фуннкцией отсортировать массив\n",
        "\n",
        "**Пример входных данных:**\n",
        "```python\n",
        "arr = [5, 3, 8, 4, 2]\n",
        "```\n",
        "\n",
        "**Ожидаемый результат:**\n",
        "```\n",
        "[2, 3, 4, 5, 8]\n",
        "```\n",
        "\n",
        "---\n",
        "```"
      ]
    },
    {
      "cell_type": "code",
      "execution_count": 4,
      "metadata": {},
      "outputs": [
        {
          "name": "stdout",
          "output_type": "stream",
          "text": [
            "[2, 3, 4, 5, 8]\n"
          ]
        }
      ],
      "source": [
        "arr = [5, 3, 8, 4, 2]\n",
        "\n",
        "print(sorted(arr))"
      ]
    },
    {
      "cell_type": "markdown",
      "metadata": {
        "id": "Z-Xjo7zMNlw3"
      },
      "source": [
        "\n",
        "\n",
        "\n",
        "## 2️⃣ Реализация пузырьковой сортировки\n",
        "Реализуйте **сортировку пузырьком** и отсортируйте массив.\n",
        "\n",
        "**Пример входных данных:**\n",
        "```python\n",
        "arr = [5, 3, 8, 4, 2]\n",
        "```\n",
        "\n",
        "**Ожидаемый результат:**\n",
        "```\n",
        "[2, 3, 4, 5, 8]\n",
        "```\n",
        "\n",
        "---\n",
        "```\n"
      ]
    },
    {
      "cell_type": "code",
      "execution_count": 6,
      "metadata": {
        "id": "SN9ylQTQNmBg"
      },
      "outputs": [
        {
          "name": "stdout",
          "output_type": "stream",
          "text": [
            "[2, 3, 4, 5, 8]\n"
          ]
        }
      ],
      "source": [
        "arr = [5, 3, 8, 4, 2]\n",
        "\n",
        "for i in range(0, len(arr) - 1):\n",
        "    for j in range(len(arr) - 1 - i):\n",
        "        if arr[j] > arr[j + 1]:\n",
        "            arr[j], arr[j + 1] = arr[j + 1], arr[j]\n",
        "\n",
        "print(arr)"
      ]
    },
    {
      "cell_type": "markdown",
      "metadata": {
        "id": "aaGawtbzhqKl"
      },
      "source": [
        "## 3️⃣ Оптимизация пузырьковой сортировки\n",
        "Оптимизируйте пузырьковую сортировку, чтобы она завершалась раньше, если массив уже отсортирован.\n",
        "\n",
        "**Пример входных данных:**\n",
        "```python\n",
        "arr = [1, 2, 3, 4, 5]\n",
        "```\n",
        "\n",
        "**Ожидаемый результат:**\n",
        "```\n",
        "[1, 2, 3, 4, 5] (должно завершиться за O(n))\n",
        "```\n",
        "\n",
        "---\n",
        "\n"
      ]
    },
    {
      "cell_type": "code",
      "execution_count": 9,
      "metadata": {
        "id": "ByFl_a5OhoCR"
      },
      "outputs": [
        {
          "name": "stdout",
          "output_type": "stream",
          "text": [
            "Массив отсортирован\n"
          ]
        }
      ],
      "source": [
        "arr = [1, 2, 3, 4, 5]\n",
        "ar = sorted(arr)\n",
        "def opti(arr):\n",
        "    if arr == ar:\n",
        "        print('Массив отсортирован')\n",
        "        return\n",
        "    else:\n",
        "        for i in range(0, len(arr) - 1):\n",
        "            for j in range(len(arr) - 1 - i):\n",
        "                if arr[j] > arr[j + 1]:\n",
        "                    arr[j], arr[j + 1] = arr[j + 1], arr[j]\n",
        "        print(arr)\n",
        "opti(arr)"
      ]
    },
    {
      "cell_type": "markdown",
      "metadata": {
        "id": "UIWphjDSh8d0"
      },
      "source": [
        "## 4️⃣ Сортировка слиянием\n",
        "Реализуйте **сортировку слиянием** (Merge Sort).\n",
        "\n",
        "**Пример входных данных:**\n",
        "```python\n",
        "arr = [9, 1, 5, 3, 7]\n",
        "```\n",
        "\n",
        "**Ожидаемый результат:**\n",
        "```\n",
        "[1, 3, 5, 7, 9]\n",
        "```\n",
        "\n",
        "---\n",
        "\n"
      ]
    },
    {
      "cell_type": "code",
      "execution_count": 31,
      "metadata": {
        "id": "LseGW0kpiS1s"
      },
      "outputs": [
        {
          "name": "stdout",
          "output_type": "stream",
          "text": [
            "[1, 3, 5, 7, 9]\n"
          ]
        }
      ],
      "source": [
        "a = [9, 1, 5, 3, 7]\n",
        "\n",
        "def merge_sort(arr):\n",
        "    if len(arr) > 1:\n",
        "        m = len(arr) // 2\n",
        "        l = arr[:m]\n",
        "        r = arr[m:]\n",
        "        merge_sort(l)\n",
        "        merge_sort(r)\n",
        "        \n",
        "        i = 0\n",
        "        j = 0\n",
        "        k = 0\n",
        "\n",
        "        while i < len(l) and j < len(r):\n",
        "            if l[i] < r[j]:\n",
        "                arr[k] = l[i]\n",
        "                i += 1\n",
        "            else: \n",
        "                arr[k] = r[j]\n",
        "                j += 1\n",
        "            k += 1\n",
        "        while i < len(l):\n",
        "            arr[k] = l[i]\n",
        "            i += 1\n",
        "            k += 1\n",
        "\n",
        "        while j < len(r):\n",
        "            arr[k] = r[j]\n",
        "            j += 1\n",
        "            k += 1\n",
        "\n",
        "merge_sort(a)\n",
        "print(a)"
      ]
    },
    {
      "cell_type": "markdown",
      "metadata": {
        "id": "h5NaRCeji99S"
      },
      "source": [
        "## 5️⃣ Быстрая сортировка\n",
        "Реализуйте **быструю сортировку** (Quick Sort).\n",
        "\n",
        "**Пример входных данных:**\n",
        "```python\n",
        "arr = [10, -2, 3, 8, 5]\n",
        "```\n",
        "\n",
        "**Ожидаемый результат:**\n",
        "```\n",
        "[-2, 3, 5, 8, 10]\n",
        "```\n",
        "\n",
        "---\n"
      ]
    },
    {
      "cell_type": "code",
      "execution_count": 42,
      "metadata": {
        "id": "5efo_fzpjMCs"
      },
      "outputs": [
        {
          "name": "stdout",
          "output_type": "stream",
          "text": [
            "[-2, 3, 5, 8, 10]\n",
            "[]\n"
          ]
        }
      ],
      "source": [
        "# O(n log n) // O(n²)\n",
        "import random\n",
        "\n",
        "arr = [10, -2, 3, 8, 5]\n",
        "n = []\n",
        "def quick_sort(arr):\n",
        "    if len(arr) == 0 or len(arr) == 1:\n",
        "        return arr \n",
        "    a = random.choice(arr)\n",
        "    l = []\n",
        "    m = []\n",
        "    r = []\n",
        "    for i in arr:\n",
        "        if i < a: l.append(i)\n",
        "        elif i > a: r.append(i)\n",
        "        else: m.append(i)\n",
        "    return quick_sort(l) + m + quick_sort(r)\n",
        "\n",
        "q = quick_sort(arr)\n",
        "q1 = quick_sort(n)\n",
        "print(q)\n",
        "print(q1)"
      ]
    },
    {
      "cell_type": "code",
      "execution_count": null,
      "metadata": {},
      "outputs": [
        {
          "name": "stdout",
          "output_type": "stream",
          "text": [
            "1\n"
          ]
        }
      ],
      "source": [
        "a = int(input())\n",
        "def func(b):\n",
        "    return b*(b+3) + 1\n",
        "\n",
        "print(func(a))"
      ]
    },
    {
      "cell_type": "code",
      "execution_count": null,
      "metadata": {},
      "outputs": [
        {
          "name": "stdout",
          "output_type": "stream",
          "text": [
            "7\n"
          ]
        }
      ],
      "source": [
        "a, b, c = int(input()), int(input()), int(input()) \n",
        "res = min(a, b // 2, c)\n",
        "\n",
        "a -= res\n",
        "b -= res * 2\n",
        "c -= res\n",
        "t = 0\n",
        "\n",
        "while True:\n",
        "    if a > 0:\n",
        "        a -= 1\n",
        "        t += 1\n",
        "    else: break\n",
        "\n",
        "    if b > 0:\n",
        "        b -= 1\n",
        "        t += 1\n",
        "    else: break\n",
        "\n",
        "    if c > 0:\n",
        "        c -= 1\n",
        "        t += 1\n",
        "    else: break\n",
        "\n",
        "    if b > 0:\n",
        "        b -= 1\n",
        "        t += 1\n",
        "    else: break\n",
        "\n",
        "total = res * 4 + t\n",
        "print(total)"
      ]
    },
    {
      "cell_type": "code",
      "execution_count": 20,
      "metadata": {},
      "outputs": [
        {
          "name": "stdout",
          "output_type": "stream",
          "text": [
            "1\n"
          ]
        }
      ],
      "source": [
        "a, num = 0, None\n",
        "while True:\n",
        "    n = int(input()) \n",
        "    if n == 0: break\n",
        "    if num is not None and n > num: \n",
        "        a += 1  \n",
        "    num = n  \n",
        "\n",
        "print(a)  \n"
      ]
    },
    {
      "cell_type": "code",
      "execution_count": 21,
      "metadata": {},
      "outputs": [
        {
          "name": "stdout",
          "output_type": "stream",
          "text": [
            "1\n"
          ]
        }
      ],
      "source": [
        "a = int(input())\n",
        "arr = list(map(int, input().split()))\n",
        "\n",
        "n_sum = sum(range(1, a + 2))\n",
        "\n",
        "r_sum = sum(arr)\n",
        "print(int(n_sum - r_sum))\n"
      ]
    },
    {
      "cell_type": "code",
      "execution_count": 27,
      "metadata": {},
      "outputs": [
        {
          "name": "stdout",
          "output_type": "stream",
          "text": [
            "13\n"
          ]
        }
      ],
      "source": [
        "n = list(map(int, input().split()))\n",
        "\n",
        "a = n[0] \n",
        "i = n[1]\n",
        "m = 1 << i\n",
        "res = a ^ m\n",
        "print(res)\n"
      ]
    },
    {
      "cell_type": "code",
      "execution_count": 1,
      "metadata": {},
      "outputs": [
        {
          "name": "stdout",
          "output_type": "stream",
          "text": [
            "1\n"
          ]
        }
      ],
      "source": [
        "arr = []\n",
        "length = 1\n",
        "length_d = 1\n",
        "r = None\n",
        "\n",
        "while True:\n",
        "    n = int(input()) \n",
        "    if n == 0:\n",
        "        break\n",
        "    arr.append(n)\n",
        "\n",
        "for i in range(1, len(arr)):\n",
        "    if arr[i] > arr[i-1]: \n",
        "        length += 1 \n",
        "        length_d = 1\n",
        "    elif arr[i] < arr[i-1]: \n",
        "        length_d += 1\n",
        "        length = 1\n",
        "    else:\n",
        "        length = 1\n",
        "        length_d = 1\n",
        "\n",
        "m_l = max(length, length_d)\n",
        "print(m_l)\n"
      ]
    },
    {
      "cell_type": "code",
      "execution_count": null,
      "metadata": {},
      "outputs": [
        {
          "name": "stdout",
          "output_type": "stream",
          "text": [
            "2\n"
          ]
        }
      ],
      "source": [
        "arr = []\n",
        "while True:\n",
        "    n = int(input())\n",
        "    if n == 0: \n",
        "        break\n",
        "    arr.append(n)\n",
        "\n",
        "length_l = 1\n",
        "length_r = 1\n",
        "max_l = 1\n",
        "\n",
        "for i in range(1, len(arr)):\n",
        "    if arr[i] > arr[i - 1]: \n",
        "        length_r += 1\n",
        "        length_l = 1 \n",
        "    elif arr[i] < arr[i - 1]:  \n",
        "        length_l += 1\n",
        "        length_r = 1  \n",
        "    else:  \n",
        "        length_r = 1\n",
        "        length_l = 1\n",
        "    max_l = max(max_l, length_l, length_r)\n",
        "print(max_l)\n"
      ]
    }
  ],
  "metadata": {
    "colab": {
      "provenance": []
    },
    "kernelspec": {
      "display_name": "Python 3",
      "name": "python3"
    },
    "language_info": {
      "codemirror_mode": {
        "name": "ipython",
        "version": 3
      },
      "file_extension": ".py",
      "mimetype": "text/x-python",
      "name": "python",
      "nbconvert_exporter": "python",
      "pygments_lexer": "ipython3",
      "version": "3.11.9"
    }
  },
  "nbformat": 4,
  "nbformat_minor": 0
}

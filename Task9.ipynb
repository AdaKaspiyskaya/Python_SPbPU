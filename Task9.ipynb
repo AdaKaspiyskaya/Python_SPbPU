{
 "cells": [
  {
   "cell_type": "markdown",
   "metadata": {
    "id": "ATjKu5B22Jc8"
   },
   "source": [
    "# Функции и их особенности в Python\n",
    "\n",
    "Функция в Python всегда возвращает результат, даже если в ней нет return или присутствует return без возвращаемого значения. Тогда возвращаемый результат будет None — специальный тип данных в Python, который дословно можно перевести с английского как «ничего». Например, None возвращает функция print()"
   ]
  },
  {
   "cell_type": "markdown",
   "metadata": {
    "id": "PvCtULmcse9i"
   },
   "source": [
    "# 1. Функциональное приветствие\n",
    "Напишите функцию print_hello, которая принимает имя пользователя и выводит приветствие в стандартный поток вывода.\n",
    "\n"
   ]
  },
  {
   "cell_type": "code",
   "execution_count": 2,
   "metadata": {
    "id": "CX0W6dT0seSx"
   },
   "outputs": [
    {
     "name": "stdout",
     "output_type": "stream",
     "text": [
      "Привет, ада\n"
     ]
    }
   ],
   "source": [
    "def print_hello(name):\n",
    "    print('Привет,', name)\n",
    "print_hello(input())"
   ]
  },
  {
   "cell_type": "markdown",
   "metadata": {
    "id": "PXYTTJJaslK5"
   },
   "source": [
    "# 2. Функциональный НОД\n",
    "Напишите функцию gcd, которая принимает два натуральных числа и возвращает их наибольший общий делитель.\n",
    "#\n",
    "# Формат ввода:\n",
    "В функцию подается два числа.\n",
    "#\n",
    "# Формат вывода:\n",
    "Выведите наибольший общий делитель.\n"
   ]
  },
  {
   "cell_type": "code",
   "execution_count": null,
   "metadata": {
    "id": "ae_bHicSrS8A"
   },
   "outputs": [
    {
     "name": "stdout",
     "output_type": "stream",
     "text": [
      "10\n"
     ]
    }
   ],
   "source": [
    "def gcd(a, b):\n",
    "    while b:\n",
    "        a, b = b, a % b\n",
    "    return a\n",
    "res = gcd(int(input()), int(input()))\n",
    "print(res)"
   ]
  },
  {
   "cell_type": "code",
   "execution_count": 10,
   "metadata": {},
   "outputs": [
    {
     "name": "stdout",
     "output_type": "stream",
     "text": [
      "5\n"
     ]
    }
   ],
   "source": [
    "import math\n",
    "print(gcd(int(input()), int(input())))"
   ]
  },
  {
   "cell_type": "markdown",
   "metadata": {
    "id": "df1-uDe0sqKH"
   },
   "source": [
    "# 3. Длина числа\n",
    "Разработайте функцию number_length, которая принимает одно целое число и возвращает его длину без учёта знака.\n",
    "\n"
   ]
  },
  {
   "cell_type": "code",
   "execution_count": 12,
   "metadata": {
    "id": "2qu3o6-ZtXHR"
   },
   "outputs": [
    {
     "name": "stdout",
     "output_type": "stream",
     "text": [
      "2\n"
     ]
    }
   ],
   "source": [
    "def number_length(a):\n",
    "    return len(str(abs(a)))\n",
    "print(number_length(int(input())))\n",
    "\n",
    "        "
   ]
  },
  {
   "cell_type": "markdown",
   "metadata": {
    "id": "P2bEEdlKtXk_"
   },
   "source": [
    "# 4.  Имя of the month\n",
    "Разработайте функцию month, которая принимает номер месяца и обозначение языка (\"ru\", \"en\") и возвращает название заданного месяца в заданном языке с заглавной буквы.\n",
    "\n",
    "Примечание\n",
    "Ваше решение должно содержать только функции.\n",
    "В решении не должно быть вызовов требуемых функций."
   ]
  },
  {
   "cell_type": "code",
   "execution_count": 18,
   "metadata": {
    "id": "oPjSbtjitZ0R"
   },
   "outputs": [],
   "source": [
    "def month(num, lang):\n",
    "    m_ru = [\n",
    "        \"Январь\", \"Февраль\", \"Март\", \"Апрель\", \"Май\", \"Июнь\",\n",
    "        \"Июль\", \"Август\", \"Сентябрь\", \"Октябрь\", \"Ноябрь\", \"Декабрь\"]\n",
    "    \n",
    "    m_en = [\n",
    "        \"January\", \"February\", \"March\", \"April\", \"May\", \"June\",\n",
    "        \"July\", \"August\", \"September\", \"October\", \"November\", \"December\"]\n",
    "    if 1 <= num <= 12:\n",
    "        if lang == 'ru':\n",
    "            return m_ru[num - 1]\n",
    "        elif lang == 'en':\n",
    "            return m_en[num - 1] \n",
    "#print(month(int(input()), input()))"
   ]
  },
  {
   "cell_type": "markdown",
   "metadata": {
    "id": "2H7Jr1R3tao0"
   },
   "source": [
    "# 5. Модернизация системы вывода\n",
    "Разработайте функцию modern_print, которая принимает строку и выводит её, если она не была выведена ранее.\n"
   ]
  },
  {
   "cell_type": "code",
   "execution_count": null,
   "metadata": {
    "id": "v1jK_j8QteKX"
   },
   "outputs": [
    {
     "name": "stdout",
     "output_type": "stream",
     "text": [
      "hahah\n"
     ]
    }
   ],
   "source": [
    "strings = set()\n",
    "\n",
    "def modern_print(a):\n",
    "    if a not in strings:\n",
    "        print(a)\n",
    "        strings.add(a)\n",
    "        \n",
    "modern_print('hahah')\n",
    "modern_print('hahah')"
   ]
  },
  {
   "cell_type": "markdown",
   "metadata": {
    "id": "1wu-0qa-te-c"
   },
   "source": [
    "# 6. Шахматный «обед»\n",
    "Напишите функцию can_eat, которая принимает положение коня и другой фигуры в виде кортежей из двух координат, а возвращает булево значение: True если конь съедает фигуру и False если нет. В случае фигуры вне поля должно выводиться предупреждение  \"Фигура вне поля\".\n",
    "\n",
    "# Формат ввода\n",
    "Координаты в формате А1, B5\n",
    "# Формат вывода\n",
    "True, False или \"Фигура вне поля\""
   ]
  },
  {
   "cell_type": "code",
   "execution_count": 25,
   "metadata": {
    "id": "jSChlo2Stmk2"
   },
   "outputs": [
    {
     "name": "stdout",
     "output_type": "stream",
     "text": [
      "Фигура вне поля\n"
     ]
    }
   ],
   "source": [
    "def can_eat(k, p):\n",
    "    if len(k) != 2 or len(p) != 2: \n",
    "        return 'Фигура вне поля'\n",
    "    if (k[0] in 'ABCDEFGH' and k[1] in '12345678') and (\n",
    "        p[0] in 'ABCDEFGH' and p[1] in '12345678'):\n",
    "\n",
    "        col_k = ord(k[0]) - ord('A') + 1\n",
    "        col_p = ord(p[0]) - ord('A') + 1\n",
    "        num_k, num_p = int(k[1]), int(p[1])\n",
    "\n",
    "    else: return 'Фигура вне поля'\n",
    "\n",
    "    if (abs(col_k - col_p) == 1 and abs(num_k - num_p) == 2) or (\n",
    "        abs(num_k - num_p) == 1 and abs(col_k - col_p) == 2):\n",
    "        return True\n",
    "    else: return False\n",
    "            \n",
    "print(can_eat(input(), input()))\n"
   ]
  },
  {
   "cell_type": "markdown",
   "metadata": {
    "id": "6EwhiYNjtnOX"
   },
   "source": [
    "# 7. Простая задача\n",
    "# Задание:\n",
    "Напишите функцию is_prime, которая принимает натуральное число, а возвращает булево значение: True — если переданное число простое, а иначе — False.\n",
    "\n",
    "# Формат ввода:\n",
    "Число\n",
    "# Формат вывода:\n",
    "Булевое значение"
   ]
  },
  {
   "cell_type": "code",
   "execution_count": 7,
   "metadata": {
    "id": "91dSwuomtqlE"
   },
   "outputs": [
    {
     "name": "stdout",
     "output_type": "stream",
     "text": [
      "False\n"
     ]
    }
   ],
   "source": [
    "def is_prime(a):\n",
    "    if (a < 2) or (a % i == 0 for i in range(4, (a // 2) + 1)): \n",
    "        return False\n",
    "    return True\n",
    "print(is_prime(int(input())))"
   ]
  },
  {
   "cell_type": "markdown",
   "metadata": {
    "id": "DQTjRqBmtr-3"
   },
   "source": [
    "# 8. Слияние\n",
    "Напишите функцию merge, которая принимает два отсортированных по возрастанию кортежа целых чисел, а возвращает один из всех переданных чисел."
   ]
  },
  {
   "cell_type": "code",
   "execution_count": 34,
   "metadata": {
    "id": "450ZvorTtuLG"
   },
   "outputs": [
    {
     "name": "stdout",
     "output_type": "stream",
     "text": [
      "(0, 1, 2, 3, 5, 6)\n"
     ]
    }
   ],
   "source": [
    "def merge(a, b):\n",
    "    m = list(a) + list(b)\n",
    "    m.sort()\n",
    "    return tuple(m)\n",
    "a = (1, 5, 3)\n",
    "b = (6, 0, 2)\n",
    "print(merge(a, b))"
   ]
  },
  {
   "cell_type": "markdown",
   "metadata": {
    "id": "kYLevaCWtvZo"
   },
   "source": [
    "# 9. Длина числа\n",
    "Разработайте функцию number_length, которая принимает одно целое число и возвращает его длину без учёта знака."
   ]
  },
  {
   "cell_type": "code",
   "execution_count": 35,
   "metadata": {
    "id": "cTPsAtrItxgx"
   },
   "outputs": [
    {
     "name": "stdout",
     "output_type": "stream",
     "text": [
      "2\n"
     ]
    }
   ],
   "source": [
    "def number_length(a):\n",
    "    return len(str(abs(a)))\n",
    "print(number_length(int(input())))"
   ]
  },
  {
   "cell_type": "markdown",
   "metadata": {
    "id": "Kucy2WzvtyIH"
   },
   "source": [
    "# 10. Палиндром\n",
    "Напишите функцию is_palindrome, которая принимает натуральное число, строку, кортеж или список, а возвращает логическое значение: True — если передан палиндром, а в противном случае — False.\n",
    "\n",
    "Примечание\n",
    "\n",
    "Для определения типа параметра нужно использовать функцию isinstance.\n"
   ]
  },
  {
   "cell_type": "code",
   "execution_count": 26,
   "metadata": {
    "id": "zRpKGi1Xt0bn"
   },
   "outputs": [
    {
     "name": "stdout",
     "output_type": "stream",
     "text": [
      "True\n",
      "True\n",
      "True\n",
      "True\n",
      "False\n",
      "False\n"
     ]
    }
   ],
   "source": [
    "def is_palindrome(a):\n",
    "    if isinstance(a, (int, str, tuple, list)):\n",
    "        if isinstance(a, int):\n",
    "            a = str(a)\n",
    "        elif isinstance(a, (tuple, list)):\n",
    "            a = ''.join(map(str, a))\n",
    "        return a == a[::-1]\n",
    "    \n",
    "print(is_palindrome(12321))     \n",
    "print(is_palindrome(\"ahaha\"))   \n",
    "print(is_palindrome((1, 2, 3, 2, 1))) \n",
    "print(is_palindrome([1, 2, 3, 2, 1])) \n",
    "print(is_palindrome(\"hello\"))    \n",
    "print(is_palindrome([1, 2, 3])) "
   ]
  }
 ],
 "metadata": {
  "colab": {
   "provenance": []
  },
  "kernelspec": {
   "display_name": "Python 3",
   "name": "python3"
  },
  "language_info": {
   "codemirror_mode": {
    "name": "ipython",
    "version": 3
   },
   "file_extension": ".py",
   "mimetype": "text/x-python",
   "name": "python",
   "nbconvert_exporter": "python",
   "pygments_lexer": "ipython3",
   "version": "3.11.9"
  }
 },
 "nbformat": 4,
 "nbformat_minor": 0
}

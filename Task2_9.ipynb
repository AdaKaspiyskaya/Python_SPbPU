{
  "cells": [
    {
      "cell_type": "markdown",
      "metadata": {
        "id": "65rym4wyexZA"
      },
      "source": [
        "#📌 Урок: Работа с файлами\n",
        "##📖 Теоретический минимум\n",
        "\n",
        "Текстовые файлы (.txt) - простые файлы с неструктурированным текстом\n",
        "\n",
        "CSV (Comma-Separated Values) - табличные данные с разделителями\n",
        "\n",
        "Excel (.xlsx, .xls) - электронные таблицы с расширенными возможностями\n",
        "\n",
        "JSON - структурированные данные в формате ключ-значение\n",
        "\n",
        "Бинарные файлы - изображения, PDF и другие нетекстовые форматы\n",
        "\n",
        "# 🔹 Основные операции с файлами\n",
        "Открытие/закрытие файла\n",
        "\n",
        "Чтение данных\n",
        "\n",
        "Запись данных\n",
        "\n",
        "Обработка больших файлов\n",
        "\n",
        "\n",
        "#📖 Материалы\n",
        "\n",
        "https://vkvideo.ru/video-194554202_456239677\n",
        "\n",
        "https://vkvideo.ru/video-194554202_456239682\n",
        "\n",
        "\n",
        "\n",
        "\n",
        "\n",
        "\n"
      ]
    },
    {
      "cell_type": "markdown",
      "metadata": {
        "id": "vBGTQmKE3Qvu"
      },
      "source": [
        "\n",
        "# 🏆 Задания\n",
        "\n",
        "## 1️⃣ Работа с текстовыми файлами\n",
        "**Задача:**\n",
        " Создать текстовый файл, записать в него str данные и прочитать обратно"
      ]
    },
    {
      "cell_type": "code",
      "execution_count": 24,
      "metadata": {
        "id": "iIseX_mCQFZK"
      },
      "outputs": [],
      "source": [
        "with open('example.txt', 'w') as file:\n",
        "    file.write('оп хаха')\n"
      ]
    },
    {
      "cell_type": "code",
      "execution_count": 25,
      "metadata": {},
      "outputs": [
        {
          "name": "stdout",
          "output_type": "stream",
          "text": [
            "оп хаха\n"
          ]
        }
      ],
      "source": [
        "with open('example.txt', 'r') as file:\n",
        "    a = file.read()\n",
        "    print(a)"
      ]
    },
    {
      "cell_type": "markdown",
      "metadata": {
        "id": "Z-Xjo7zMNlw3"
      },
      "source": [
        "\n",
        "## 2️⃣ Работа с CSV файлами\n",
        "\n",
        "**Задача:**\n",
        "\n",
        "Создать CSV файл с табличными данными, записать и прочитать его\n",
        "\n"
      ]
    },
    {
      "cell_type": "code",
      "execution_count": 26,
      "metadata": {
        "id": "SN9ylQTQNmBg"
      },
      "outputs": [],
      "source": [
        "import csv\n",
        "df = [\n",
        "    ['УНИВЕРСИТЕТ', 'ГОРОД', 'ФОРМАТ'], \n",
        "    ['СПбПУ', 'СПб', 'очно'], \n",
        "    ['ВШЭ', 'Мск', 'дистанционно']\n",
        "]"
      ]
    },
    {
      "cell_type": "code",
      "execution_count": 27,
      "metadata": {},
      "outputs": [],
      "source": [
        "with open('df.csv', 'w', newline='', encoding= 'utf-8') as file:\n",
        "    w = csv.writer(file)\n",
        "    w.writerows(df)\n"
      ]
    },
    {
      "cell_type": "code",
      "execution_count": 28,
      "metadata": {},
      "outputs": [
        {
          "name": "stdout",
          "output_type": "stream",
          "text": [
            "['УНИВЕРСИТЕТ', 'ГОРОД', 'ФОРМАТ']\n",
            "['СПбПУ', 'СПб', 'очно']\n",
            "['ВШЭ', 'Мск', 'дистанционно']\n"
          ]
        }
      ],
      "source": [
        "with open('df.csv', 'r', encoding= 'utf-8') as file:\n",
        "    r = csv.reader(file)\n",
        "    for i in r: print(i)"
      ]
    },
    {
      "cell_type": "markdown",
      "metadata": {
        "id": "aaGawtbzhqKl"
      },
      "source": [
        "## 3️⃣  Работа с Excel файлами\n",
        "**Задача:** Создать Excel файл и прочитать данные из него\n",
        "\n",
        "Используйте библиотеку pandas\n",
        "\n",
        "---\n",
        "\n"
      ]
    },
    {
      "cell_type": "code",
      "execution_count": 29,
      "metadata": {
        "id": "ByFl_a5OhoCR"
      },
      "outputs": [],
      "source": [
        "import pandas as pd\n",
        "\n",
        "df = [\n",
        "    ['УНИВЕРСИТЕТ', 'ГОРОД', 'ФОРМАТ'], \n",
        "    ['СПбПУ', 'СПб', 'очно'], \n",
        "    ['ВШЭ', 'Мск', 'дистанционно']\n",
        "]"
      ]
    },
    {
      "cell_type": "code",
      "execution_count": 30,
      "metadata": {},
      "outputs": [],
      "source": [
        "df = pd.DataFrame(df)\n",
        "df.to_excel('df.xlsx', index=False, engine='openpyxl')"
      ]
    },
    {
      "cell_type": "code",
      "execution_count": 31,
      "metadata": {},
      "outputs": [
        {
          "name": "stdout",
          "output_type": "stream",
          "text": [
            "             0      1             2\n",
            "0  УНИВЕРСИТЕТ  ГОРОД        ФОРМАТ\n",
            "1        СПбПУ    СПб          очно\n",
            "2          ВШЭ    Мск  дистанционно\n"
          ]
        }
      ],
      "source": [
        "print(pd.read_excel('df.xlsx', engine='openpyxl'))"
      ]
    },
    {
      "cell_type": "markdown",
      "metadata": {
        "id": "UIWphjDSh8d0"
      },
      "source": [
        "\n",
        "## 4️⃣  Чтение больших файлов по частям\n",
        "\n",
        "\n",
        "**Задача:** Обработать файл построчно без загрузки в память целиком\n",
        "\n",
        "Реализуйте чанки самостоятельно или воспользуйтесь chunk из pandas\n",
        "\n",
        "---\n",
        "\n",
        "\n"
      ]
    },
    {
      "cell_type": "code",
      "execution_count": 35,
      "metadata": {
        "id": "LseGW0kpiS1s"
      },
      "outputs": [
        {
          "name": "stdout",
          "output_type": "stream",
          "text": [
            "   1 2 3 4 5\n",
            "0  6 7 8 9 0\n",
            "1  1 2 3 4 5\n",
            "2  6 7 8 9 0\n",
            "3  1 2 3 4 5\n",
            "4  6 7 8 9 0\n",
            "   1 2 3 4 5\n",
            "5  1 2 3 4 5\n",
            "6  6 7 8 9 0\n",
            "7  1 2 3 4 5\n",
            "8  6 7 8 9 0\n",
            "9  1 2 3 4 5\n",
            "    1 2 3 4 5\n",
            "10  6 7 8 9 0\n",
            "11  1 2 3 4 5\n",
            "12  6 7 8 9 0\n",
            "13  1 2 3 4 5\n",
            "14  6 7 8 9 0\n",
            "    1 2 3 4 5\n",
            "15  1 2 3 4 5\n",
            "16  6 7 8 9 0\n",
            "17  1 2 3 4 5\n",
            "18  6 7 8 9 0\n",
            "19  1 2 3 4 5\n",
            "    1 2 3 4 5\n",
            "20  6 7 8 9 0\n",
            "21  1 2 3 4 5\n",
            "22  6 7 8 9 0\n",
            "23  1 2 3 4 5\n",
            "24  6 7 8 9 0\n",
            "    1 2 3 4 5\n",
            "25  1 2 3 4 5\n",
            "26  6 7 8 9 0\n",
            "27  1 2 3 4 5\n",
            "28  6 7 8 9 0\n",
            "29  1 2 3 4 5\n",
            "    1 2 3 4 5\n",
            "30  6 7 8 9 0\n",
            "31  1 2 3 4 5\n",
            "32  6 7 8 9 0\n",
            "33  1 2 3 4 5\n",
            "34  6 7 8 9 0\n",
            "    1 2 3 4 5\n",
            "35  1 2 3 4 5\n",
            "36  6 7 8 9 0\n",
            "37  1 2 3 4 5\n",
            "38  6 7 8 9 0\n",
            "39  1 2 3 4 5\n",
            "    1 2 3 4 5\n",
            "40  6 7 8 9 0\n",
            "41  1 2 3 4 5\n",
            "42  6 7 8 9 0\n",
            "43  1 2 3 4 5\n",
            "44  6 7 8 9 0\n",
            "    1 2 3 4 5\n",
            "45  1 2 3 4 5\n",
            "46  6 7 8 9 0\n",
            "47  1 2 3 4 5\n",
            "48  6 7 8 9 0\n",
            "49  1 2 3 4 5\n",
            "    1 2 3 4 5\n",
            "50  6 7 8 9 0\n",
            "51  1 2 3 4 5\n",
            "52  6 7 8 9 0\n",
            "53  1 2 3 4 5\n",
            "54  6 7 8 9 0\n",
            "    1 2 3 4 5\n",
            "55  1 2 3 4 5\n",
            "56  6 7 8 9 0\n",
            "57  1 2 3 4 5\n",
            "58  6 7 8 9 0\n",
            "59  1 2 3 4 5\n",
            "    1 2 3 4 5\n",
            "60  6 7 8 9 0\n",
            "61  1 2 3 4 5\n",
            "62  6 7 8 9 0\n",
            "63  1 2 3 4 5\n",
            "64  6 7 8 9 0\n",
            "    1 2 3 4 5\n",
            "65  1 2 3 4 5\n",
            "66  6 7 8 9 0\n",
            "67  1 2 3 4 5\n",
            "68  6 7 8 9 0\n"
          ]
        }
      ],
      "source": [
        "d = 'large.csv' \n",
        "csize = 5\n",
        "\n",
        "for i in pd.read_csv(d, chunksize=csize):\n",
        "    print(i) \n"
      ]
    },
    {
      "cell_type": "markdown",
      "metadata": {
        "id": "h5NaRCeji99S"
      },
      "source": [
        "\n",
        "## 5️⃣ Чтение JPEG файла\n",
        "**Задача:**\n",
        "\n",
        "Создайте изображение 21х21 пиксель в формате JPEG\n",
        "\n",
        "Прочитайте JPEG файл в бинарном режиме\n",
        "\n",
        "Выведете прочитанный файл как массив интенсивности пикселей\n",
        "\n",
        "---\n"
      ]
    },
    {
      "cell_type": "code",
      "execution_count": 41,
      "metadata": {
        "id": "5efo_fzpjMCs"
      },
      "outputs": [],
      "source": [
        "from PIL import Image\n",
        "import numpy as np\n",
        "\n",
        "w, h = 21, 21\n",
        "d = np.random.randint(0, 256, (h, w, 3), dtype=np.uint8) \n",
        "image = Image.fromarray(d)\n",
        "image.save('abc.jpg')\n"
      ]
    },
    {
      "cell_type": "code",
      "execution_count": 42,
      "metadata": {},
      "outputs": [
        {
          "name": "stdout",
          "output_type": "stream",
          "text": [
            "[[[119  59 173]\n",
            "  [210 142 229]\n",
            "  [188 101 135]\n",
            "  ...\n",
            "  [158 116  94]\n",
            "  [171 144 125]\n",
            "  [127 122 126]]\n",
            "\n",
            " [[ 79  23 122]\n",
            "  [ 95  39 110]\n",
            "  [145  87 102]\n",
            "  ...\n",
            "  [213 193 160]\n",
            "  [133 120  88]\n",
            "  [ 49  48  28]]\n",
            "\n",
            " [[ 99  54 119]\n",
            "  [150 120 158]\n",
            "  [112 111  93]\n",
            "  ...\n",
            "  [207 227 174]\n",
            "  [ 31  49   0]\n",
            "  [185 189 128]]\n",
            "\n",
            " ...\n",
            "\n",
            " [[180 175 133]\n",
            "  [131 122  93]\n",
            "  [147 125 127]\n",
            "  ...\n",
            "  [ 82  97 102]\n",
            "  [206 180 189]\n",
            "  [171  65  75]]\n",
            "\n",
            " [[199 184 181]\n",
            "  [166 151 148]\n",
            "  [134 119 114]\n",
            "  ...\n",
            "  [ 49  67  77]\n",
            "  [113  93 102]\n",
            "  [147  55  40]]\n",
            "\n",
            " [[175 158 202]\n",
            "  [118 100 122]\n",
            "  [107  84  66]\n",
            "  ...\n",
            "  [110 131 136]\n",
            "  [138 127 123]\n",
            "  [249 176 121]]]\n"
          ]
        }
      ],
      "source": [
        "with open('abc.jpg', 'rb') as file:\n",
        "    a = file.read()\n",
        "\n",
        "ir = Image.open('abc.jpg')\n",
        "arr = np.array(ir)\n",
        "print(arr)\n"
      ]
    }
  ],
  "metadata": {
    "colab": {
      "provenance": []
    },
    "kernelspec": {
      "display_name": "Python 3",
      "name": "python3"
    },
    "language_info": {
      "codemirror_mode": {
        "name": "ipython",
        "version": 3
      },
      "file_extension": ".py",
      "mimetype": "text/x-python",
      "name": "python",
      "nbconvert_exporter": "python",
      "pygments_lexer": "ipython3",
      "version": "3.11.9"
    }
  },
  "nbformat": 4,
  "nbformat_minor": 0
}

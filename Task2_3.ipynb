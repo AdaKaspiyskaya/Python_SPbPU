{
  "cells": [
    {
      "cell_type": "markdown",
      "metadata": {
        "id": "65rym4wyexZA"
      },
      "source": [
        "# Теоретический минимум по теме \"Регулярные выражения\"\n",
        "\n",
        "## Что такое регулярные выражения (RegEx)?\n",
        "Регулярные выражения — это мощный инструмент для поиска и обработки текстовых данных, позволяющий описывать шаблоны строк с помощью специальных символов.\n",
        "\n",
        "## Основные символы и конструкции\n",
        "| Символ  | Значение | Пример |\n",
        "|---------|---------|--------|\n",
        "| `.`     | Любой одиночный символ (кроме `\\n`) | `\"c.t\"` → `cat`, `cut`, `c8t` |\n",
        "| `^`     | Начало строки | `\"^Hello\"` → `Hello world`, но не `A Hello world` |\n",
        "| `$`     | Конец строки | `\"end$\"` → `This is the end` |\n",
        "| `\\d`    | Любая цифра `[0-9]` | `\"\\d{3}\"` → `123`, `456` |\n",
        "| `\\w`    | Любая буква/цифра/подчёркивание `[a-zA-Z0-9_]` | `\"a\\w\"` → `a1`, `a_` |\n",
        "| `\\s`    | Пробельный символ (пробел, табуляция, новая строка) | `\"hello\\sworld\"` → `hello world` |\n",
        "| `\\b`    | Граница слова | `\"\\bcat\\b\"` → `cat`, но не `cats` |\n",
        "| `*`     | Повторение от 0 до ∞ раз | `\"bo*\"` → `b`, `bo`, `boo`, `booo` |\n",
        "| `+`     | Повторение от 1 до ∞ раз | `\"bo+\"` → `bo`, `boo`, но не `b` |\n",
        "| `?`     | Повторение 0 или 1 раз | `\"colou?r\"` → `color`, `colour` |\n",
        "| `{n,m}` | От n до m повторений | `\"a{2,4}\"` → `aa`, `aaa`, `aaaa` |\n",
        "| `|`     | Альтернатива (ИЛИ) | `\"cat|dog\"` → `cat`, `dog` |\n",
        "| `()`    | Группировка | `\"(ab)+\"` → `ab`, `abab` |\n",
        "| `[]`    | Символьный класс | `\"[aeiou]\"` → `a`, `e`, `i`, `o`, `u` |\n",
        "\n",
        "## Функции модуля re в Python\n",
        "Чтобы работать с регулярными выражениями в Python, используется модуль `re`:\n",
        "\n",
        "\n",
        "`import re`\n",
        "\n",
        "| Функция | Описание | Пример |\n",
        "|---------|---------|--------|\n",
        "| `re.match(pattern, string)` | Проверяет, начинается ли строка с шаблона | `re.match(r\"\\d+\", \"123abc\")` → `123` |\n",
        "| `re.search(pattern, string)` | Ищет первое совпадение в строке | `re.search(r\"\\d+\", \"abc 123 def\")` → `123` |\n",
        "| `re.findall(pattern, string)` | Находит все совпадения | `re.findall(r\"\\d+\", \"abc 123 def 456\")` → `['123', '456']` |\n",
        "| `re.sub(pattern, repl, string)` | Заменяет совпадения на другой текст | `re.sub(r\"\\d+\", \"X\", \"abc 123 def 456\")` → `\"abc X def X\"` |\n",
        "\n",
        "\n",
        "---\n",
        "# Материалы\n",
        "https://vk.com/video-225894706_456239057\n",
        "\n",
        "https://vk.com/video-174125332_456239102\n",
        "\n",
        "https://docs.python.org/3/library/re.html\n",
        "\n",
        "---\n",
        "\n",
        "# Задачи по теме \"Регулярные выражения\""
      ]
    },
    {
      "cell_type": "code",
      "execution_count": 2,
      "metadata": {},
      "outputs": [],
      "source": [
        "import re"
      ]
    },
    {
      "cell_type": "markdown",
      "metadata": {
        "id": "Z-Xjo7zMNlw3"
      },
      "source": [
        "## 1. Найдите все email-адреса\n",
        "Напишите регулярное выражение, которое найдёт все email-адреса в тексте. Email-адрес должен соответствовать шаблону: буквы, цифры, символы `.` и `_` перед `@`, затем доменное имя.\n",
        "\n",
        "**Пример входных данных:**\n",
        "```\n",
        "text = \"Контакты: support@mail.com, user_123@gmail.com, invalid-email@com\"\n",
        "```\n",
        "\n",
        "**Ожидаемый результат:**\n",
        "```\n",
        "['support@mail.com', 'user_123@gmail.com']\n",
        "```\n",
        "\n",
        "---"
      ]
    },
    {
      "cell_type": "code",
      "execution_count": 3,
      "metadata": {
        "id": "SN9ylQTQNmBg"
      },
      "outputs": [
        {
          "name": "stdout",
          "output_type": "stream",
          "text": [
            "['support@mail.com', 'user_123@gmail.com']\n"
          ]
        }
      ],
      "source": [
        "text = \"Контакты: support@mail.com, user_123@gmail.com, invalid-email@com\"\n",
        "\n",
        "email = r'[a-zA-Z0-9._%+-]+@[a-zA-Z0-9.-]+\\.[a-zA-Z]{2,}'\n",
        "print(re.findall(email, text))\n"
      ]
    },
    {
      "cell_type": "markdown",
      "metadata": {
        "id": "aaGawtbzhqKl"
      },
      "source": [
        "## 2. Выделите номера телефонов\n",
        "Напишите регулярное выражение, которое извлечёт номера телефонов в формате `+7 (999) 123-45-67` или `+79991234567`.\n",
        "\n",
        "**Пример входных данных:**\n",
        "```\n",
        "text = \"Мои номера: +7 (999) 123-45-67, +79161234567, 123456.\"\n",
        "```\n",
        "\n",
        "**Ожидаемый результат:**\n",
        "```\n",
        "['+7 (999) 123-45-67', '+79161234567']\n",
        "```\n",
        "\n",
        "---"
      ]
    },
    {
      "cell_type": "code",
      "execution_count": 4,
      "metadata": {
        "id": "ByFl_a5OhoCR"
      },
      "outputs": [
        {
          "name": "stdout",
          "output_type": "stream",
          "text": [
            "['+7 (999) 123-45-67', '+79161234567']\n"
          ]
        }
      ],
      "source": [
        "text = \"Мои номера: +7 (999) 123-45-67, +79161234567, 123456.\"\n",
        "\n",
        "number = r'\\+7\\s?\\(?\\d{3}\\)?\\s?\\d{3}[-]?\\d{2}[-]?\\d{2}|\\+7\\d{10}'\n",
        "\n",
        "print(re.findall(number, text))\n",
        "\n"
      ]
    },
    {
      "cell_type": "markdown",
      "metadata": {
        "id": "UIWphjDSh8d0"
      },
      "source": [
        "## 3. Найдите все даты\n",
        "Напишите регулярное выражение для поиска дат в формате `DD.MM.YYYY`.\n",
        "\n",
        "**Пример входных данных:**\n",
        "```\n",
        "text = \"События: 12.05.2023, 01.01.2020, 31-12-2019, 40.13.2022.\"\n",
        "```\n",
        "\n",
        "**Ожидаемый результат:**\n",
        "```\n",
        "['12.05.2023', '01.01.2020']\n",
        "```\n",
        "\n",
        "---"
      ]
    },
    {
      "cell_type": "code",
      "execution_count": 8,
      "metadata": {},
      "outputs": [
        {
          "name": "stdout",
          "output_type": "stream",
          "text": [
            "['12.05.2023', '01.01.2020', '31-12-2019']\n"
          ]
        }
      ],
      "source": [
        "from datetime import datetime\n",
        "\n",
        "text = \"События: 12.05.2023, 01.01.2020, 31-12-2019, 40.13.2022, 30.02.2020.\"\n",
        "v = re.findall(r\"\\b(?:0[1-9]|[12][0-9]|3[0-1])(?:[.-])(?:0[1-9]|1[0-2])(?:[.-])(?:\\d{4})\\b\", text)\n",
        "# v = re.findall(r\"\\b(?:0[1-9]|[12][0-9]|3[0-1])\\.(?:0[1-9]|1[0-2])\\.(?:\\d{4})\\b\", text)\n",
        "def valid_date(d):\n",
        "    try:\n",
        "        d = d.replace('-', '.')\n",
        "        datetime.strptime(d, \"%d.%m.%Y\")\n",
        "        return True\n",
        "    except ValueError:\n",
        "        return False\n",
        "\n",
        "valid = [date for date in v if valid_date(date)]\n",
        "\n",
        "print(valid)"
      ]
    },
    {
      "cell_type": "markdown",
      "metadata": {
        "id": "h5NaRCeji99S"
      },
      "source": [
        "## 4. Проверка пароля\n",
        "Напишите регулярное выражение, которое проверяет, что пароль соответствует следующим требованиям:\n",
        "- Длина от 8 до 16 символов\n",
        "- Содержит хотя бы одну цифру\n",
        "- Содержит хотя бы одну заглавную букву\n",
        "- Содержит хотя бы одну строчную букву\n",
        "\n",
        "**Пример входных данных:**\n",
        "```\n",
        "passwords = [\"Password1\", \"weak\", \"STRONGPASS123\", \"P@ssword\"]\n",
        "```\n",
        "\n",
        "**Ожидаемый результат:**\n",
        "```\n",
        "['Password1']\n",
        "```\n",
        "\n",
        "---"
      ]
    },
    {
      "cell_type": "code",
      "execution_count": 6,
      "metadata": {
        "id": "5efo_fzpjMCs"
      },
      "outputs": [
        {
          "name": "stdout",
          "output_type": "stream",
          "text": [
            "['Password1']\n"
          ]
        }
      ],
      "source": [
        "passwords = [\"Password1\", \"weak\", \"STRONGPASS123\", \"P@ssword\"]\n",
        "\n",
        "proof = r'^(?=.*[a-z])(?=.*[A-Z])(?=.*\\d)[a-zA-Z\\d]{8,16}$'\n",
        "valid = [password for password in passwords if re.match(proof, password)]\n",
        "\n",
        "print(valid)\n"
      ]
    },
    {
      "cell_type": "markdown",
      "metadata": {
        "id": "dacySgMpjM5_"
      },
      "source": [
        "## 5. Удалите все HTML-теги\n",
        "Напишите регулярное выражение, которое удалит все HTML-теги из строки.\n",
        "\n",
        "**Пример входных данных:**\n",
        "```\n",
        "html = \"<p>Привет, <b>мир</b>!</p>\"\n",
        "```\n",
        "\n",
        "**Ожидаемый результат:**\n",
        "```\n",
        "'Привет, мир!'\n",
        "```"
      ]
    },
    {
      "cell_type": "code",
      "execution_count": 7,
      "metadata": {
        "id": "bwDKd05JjNC1"
      },
      "outputs": [
        {
          "name": "stdout",
          "output_type": "stream",
          "text": [
            "'Привет, мир!'\n"
          ]
        }
      ],
      "source": [
        "html = \"<p>Привет, <b>мир</b>!</p>\"\n",
        "\n",
        "delt = re.sub(r'<[^>]+>', '', html)\n",
        "\n",
        "print(f\"'{delt.strip()}'\") \n"
      ]
    }
  ],
  "metadata": {
    "colab": {
      "provenance": []
    },
    "kernelspec": {
      "display_name": "Python 3",
      "name": "python3"
    },
    "language_info": {
      "codemirror_mode": {
        "name": "ipython",
        "version": 3
      },
      "file_extension": ".py",
      "mimetype": "text/x-python",
      "name": "python",
      "nbconvert_exporter": "python",
      "pygments_lexer": "ipython3",
      "version": "3.11.9"
    }
  },
  "nbformat": 4,
  "nbformat_minor": 0
}

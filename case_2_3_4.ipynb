{
 "cells": [
  {
   "cell_type": "code",
   "execution_count": 1,
   "metadata": {},
   "outputs": [
    {
     "name": "stdout",
     "output_type": "stream",
     "text": [
      "Привет, Мир!\n"
     ]
    }
   ],
   "source": [
    "print(\"Привет, Мир!\")"
   ]
  },
  {
   "cell_type": "code",
   "execution_count": 3,
   "metadata": {},
   "outputs": [
    {
     "name": "stdout",
     "output_type": "stream",
     "text": [
      "Привет,  df\n"
     ]
    }
   ],
   "source": [
    "name = input(\"Как Вас зовут?\")\n",
    "print(\"Привет, \", name)"
   ]
  },
  {
   "cell_type": "code",
   "execution_count": 4,
   "metadata": {},
   "outputs": [
    {
     "name": "stdout",
     "output_type": "stream",
     "text": [
      "sedfg\n",
      "sedfg\n",
      "sedfg\n"
     ]
    }
   ],
   "source": [
    "str = input()\n",
    "i = 0\n",
    "while i < 3 :\n",
    "    print(str)\n",
    "    i = i+1"
   ]
  },
  {
   "cell_type": "code",
   "execution_count": 12,
   "metadata": {},
   "outputs": [
    {
     "name": "stdout",
     "output_type": "stream",
     "text": [
      "8\n"
     ]
    }
   ],
   "source": [
    "x, y = int(input()), int(input())\n",
    "res = x - y\n",
    "print(res)"
   ]
  },
  {
   "cell_type": "code",
   "execution_count": 14,
   "metadata": {},
   "outputs": [
    {
     "name": "stdout",
     "output_type": "stream",
     "text": [
      "Чек\n",
      "яблоки  -  3.0 кг  -  100.0 руб/кг\n",
      "Итого:  300.0 руб\n",
      "Внесено: 500.0 руб\n",
      "Сдача: 200.0 руб\n"
     ]
    }
   ],
   "source": [
    "name = input()\n",
    "price = float(input())\n",
    "weight = float(input())\n",
    "sum = float(input())\n",
    "pr = float(price*weight)\n",
    "print(\"Чек\")\n",
    "print(name,\" - \", weight, \"кг\", \" - \", price, \"руб/кг\")\n",
    "print(\"Итого: \", pr, \"руб\")\n",
    "print(\"Внесено:\", sum, \"руб\")\n",
    "print(\"Сдача:\", sum - pr, \"руб\")"
   ]
  },
  {
   "cell_type": "code",
   "execution_count": 17,
   "metadata": {},
   "outputs": [
    {
     "name": "stdout",
     "output_type": "stream",
     "text": [
      "72.14\n"
     ]
    }
   ],
   "source": [
    "temp = float(input())\n",
    "f = round(9*temp/5 + 32, 2)\n",
    "print(f)"
   ]
  },
  {
   "cell_type": "code",
   "execution_count": 18,
   "metadata": {},
   "outputs": [
    {
     "name": "stdout",
     "output_type": "stream",
     "text": [
      "Итоговая стоимость добычи:  689.08 USD\n"
     ]
    }
   ],
   "source": [
    "oil = float(input())\n",
    "price = float(input())\n",
    "res = round(oil*price, 2)\n",
    "print(\"Итоговая стоимость добычи: \", res, \"USD\")"
   ]
  },
  {
   "cell_type": "code",
   "execution_count": 19,
   "metadata": {},
   "outputs": [
    {
     "name": "stdout",
     "output_type": "stream",
     "text": [
      "2.0\n"
     ]
    }
   ],
   "source": [
    "s1 = float(input())\n",
    "s2 = float(input())\n",
    "s3 = float(input())\n",
    "\n",
    "res = round((s1 + s2 + s3)/3, 2)\n",
    "print(res)"
   ]
  },
  {
   "cell_type": "code",
   "execution_count": 24,
   "metadata": {},
   "outputs": [
    {
     "name": "stdout",
     "output_type": "stream",
     "text": [
      "3\n"
     ]
    }
   ],
   "source": [
    "a = input()\n",
    "print(len(a))"
   ]
  },
  {
   "cell_type": "code",
   "execution_count": 23,
   "metadata": {},
   "outputs": [
    {
     "name": "stdout",
     "output_type": "stream",
     "text": [
      "6.0\n"
     ]
    }
   ],
   "source": [
    "a = float(input())\n",
    "b = float(input())\n",
    "c = float(input())\n",
    "res = a + b + c\n",
    "print(res)"
   ]
  },
  {
   "cell_type": "code",
   "execution_count": 1,
   "metadata": {},
   "outputs": [
    {
     "name": "stdout",
     "output_type": "stream",
     "text": [
      "Положительное число\n"
     ]
    }
   ],
   "source": [
    "#1\n",
    "a = int(input())\n",
    "if a > 0:\n",
    "    print('Положительное число')\n",
    "elif a < 0:\n",
    "    print('Отрицательное число')\n",
    "else:\n",
    "    print('Ноль')\n"
   ]
  },
  {
   "cell_type": "code",
   "execution_count": 3,
   "metadata": {},
   "outputs": [
    {
     "name": "stdout",
     "output_type": "stream",
     "text": [
      "Нечётное число\n"
     ]
    }
   ],
   "source": [
    "#2\n",
    "a = int(input())\n",
    "if a % 2 == 0:\n",
    "    print('Чётное число')\n",
    "else:\n",
    "    print('Нечётное число')"
   ]
  },
  {
   "cell_type": "code",
   "execution_count": 5,
   "metadata": {},
   "outputs": [
    {
     "name": "stdout",
     "output_type": "stream",
     "text": [
      "4 квадрант\n"
     ]
    }
   ],
   "source": [
    "#3\n",
    "x = int(input())\n",
    "y = int(input())\n",
    "\n",
    "if (x > 0 and y > 0):\n",
    "    print('1 квадрант')\n",
    "elif (x < 0 and y > 0):\n",
    "    print('2 квадрант')\n",
    "elif(x < 0 and y < 0):\n",
    "    print('3 квадрант')\n",
    "elif (x < 0 and y < 0):\n",
    "    print('4 квадрант')\n"
   ]
  },
  {
   "cell_type": "code",
   "execution_count": 6,
   "metadata": {},
   "outputs": [
    {
     "name": "stdout",
     "output_type": "stream",
     "text": [
      "Вы проиграли\n"
     ]
    }
   ],
   "source": [
    "#4\n",
    "a = input()\n",
    "b = input()\n",
    "if a == 'камень' and b == 'камень':\n",
    "    print('Ничья')\n",
    "elif a == 'камень' and b == 'ножницы':\n",
    "    print('Вы выиграли')\n",
    "elif a == 'камень' and b == 'бумага':\n",
    "    print('Вы проиграли')\n",
    "\n",
    "elif a == 'ножницы' and b == 'камень':\n",
    "    print('Вы проиграли')\n",
    "elif a == 'ножницы' and b == 'ножницы':\n",
    "    print('Ничья')\n",
    "elif a == 'ножницы' and b == 'бумага':\n",
    "    print('Вы выиграли')\n",
    "\n",
    "elif a == 'бумага' and b == 'камень':\n",
    "    print('Вы выиграли')\n",
    "elif a == 'бумага' and b == 'ножницы':\n",
    "    print('Вы проиграли')\n",
    "elif a == 'бумага' and b == 'бумага':\n",
    "    print('Ничья')"
   ]
  },
  {
   "cell_type": "code",
   "execution_count": 8,
   "metadata": {},
   "outputs": [
    {
     "name": "stdout",
     "output_type": "stream",
     "text": [
      "Вторая строка длиннее\n"
     ]
    }
   ],
   "source": [
    "#5\n",
    "a = input()\n",
    "b = input()\n",
    "if len(a) > len(b):\n",
    "    print('Первая строка длиннее')\n",
    "elif len(b) > len(a):\n",
    "    print('Вторая строка длиннее')\n",
    "else: print('Строки равной длины')"
   ]
  },
  {
   "cell_type": "code",
   "execution_count": 13,
   "metadata": {},
   "outputs": [
    {
     "name": "stdout",
     "output_type": "stream",
     "text": [
      "Доступ ограничен\n"
     ]
    }
   ],
   "source": [
    "#6\n",
    "a = int(input())\n",
    "b = input()\n",
    "if a >= 18 and b == 'да':\n",
    "    print('Доступ разрешен')\n",
    "elif a < 18 and b == 'нет':\n",
    "    print('Доступ запрещен')\n",
    "elif a < 18 or b == 'нет':\n",
    "    print('Доступ ограничен')"
   ]
  },
  {
   "cell_type": "code",
   "execution_count": 28,
   "metadata": {},
   "outputs": [
    {
     "name": "stdout",
     "output_type": "stream",
     "text": [
      "1 место: a \n",
      "2 место: b \n",
      "3 место: c\n"
     ]
    }
   ],
   "source": [
    "#7\n",
    "a, b, c = input(), input(), input()\n",
    "a1, a2, a3 = float(input()), float(input()), float(input())\n",
    "\n",
    "if a1 < a2 and a2 < a3:\n",
    "    print('1 место:', a, '\\n2 место:', b, '\\n3 место:', c)\n",
    "elif a1 < a3 and a3 < a2:\n",
    "    print('1 место:', a, '\\n2 место:', c, '\\n3 место:', b)\n",
    "elif a2 < a3 and a3 < a1:\n",
    "    print('1 место:', b, '\\n2 место:', c, '\\n3 место:', a)\n",
    "elif a2 < a1 and a1 < a3:\n",
    "    print('1 место:', b, '\\n2 место:', a, '\\n3 место:', c)\n",
    "elif a3 < a2 and a2 < a1:\n",
    "    print('1 место:', c, '\\n2 место:', b, '\\n3 место:', a)\n",
    "elif a3 < a1 and a1 < a2:\n",
    "    print('1 место:', c, '\\n2 место:', a, '\\n3 место:', b)\n"
   ]
  },
  {
   "cell_type": "code",
   "execution_count": 21,
   "metadata": {},
   "outputs": [
    {
     "name": "stdout",
     "output_type": "stream",
     "text": [
      "Число больше среднего\n"
     ]
    }
   ],
   "source": [
    "#8\n",
    "a, b, c, d = int(input()), int(input()), int(input()), int(input())\n",
    "\n",
    "sr = (b + c + d)/3\n",
    "if a > sr:\n",
    "    print('Число больше среднего')\n",
    "elif a < sr:\n",
    "    print('Число меньше среднего')\n",
    "else: print('Число равно среднему')"
   ]
  },
  {
   "cell_type": "code",
   "execution_count": 32,
   "metadata": {},
   "outputs": [
    {
     "name": "stdout",
     "output_type": "stream",
     "text": [
      "Високосный год\n"
     ]
    }
   ],
   "source": [
    "#9\n",
    "a = int(input())\n",
    "if a % 4 == 0 or (a % 100 == 0 and a % 100 == 0):\n",
    "    print('Високосный год')\n",
    "else: print('Обычный год')\n"
   ]
  },
  {
   "cell_type": "code",
   "execution_count": 23,
   "metadata": {},
   "outputs": [
    {
     "name": "stdout",
     "output_type": "stream",
     "text": [
      "Старший билет\n"
     ]
    }
   ],
   "source": [
    "#10\n",
    "a = int(input())\n",
    "if a < 12:\n",
    "    print('Детский билет')\n",
    "elif a >= 12 and a < 18:\n",
    "    print('Юношеский билет')\n",
    "elif a >= 18 and a < 60:\n",
    "    print('Взрослый билет')\n",
    "elif a >= 60: \n",
    "    print('Старший билет')"
   ]
  },
  {
   "cell_type": "code",
   "execution_count": null,
   "metadata": {},
   "outputs": [],
   "source": [
    "#FOR_WHILE"
   ]
  },
  {
   "cell_type": "code",
   "execution_count": 14,
   "metadata": {},
   "outputs": [
    {
     "name": "stdout",
     "output_type": "stream",
     "text": [
      "6\n"
     ]
    }
   ],
   "source": [
    "#1\n",
    "a = int(input())\n",
    "sum = 0\n",
    "for i in range(a + 1):\n",
    "    sum += i\n",
    "print(sum)\n",
    "\n"
   ]
  },
  {
   "cell_type": "code",
   "execution_count": 21,
   "metadata": {},
   "outputs": [
    {
     "name": "stdout",
     "output_type": "stream",
     "text": [
      "6\n"
     ]
    }
   ],
   "source": [
    "#2\n",
    "a = int(input())\n",
    "f = 1\n",
    "for i in range(1, a + 1):\n",
    "    f = i*f\n",
    "print(f)\n",
    "\n"
   ]
  },
  {
   "cell_type": "code",
   "execution_count": 34,
   "metadata": {},
   "outputs": [
    {
     "name": "stdout",
     "output_type": "stream",
     "text": [
      "2\n",
      "4\n",
      "6\n",
      "8\n",
      "10\n",
      "12\n",
      "14\n",
      "16\n",
      "18\n",
      "20\n",
      "22\n",
      "24\n",
      "26\n",
      "28\n",
      "30\n",
      "32\n",
      "34\n",
      "36\n",
      "38\n",
      "40\n",
      "42\n",
      "44\n",
      "46\n",
      "48\n",
      "50\n",
      "52\n",
      "54\n",
      "56\n",
      "58\n",
      "60\n",
      "62\n",
      "64\n",
      "66\n"
     ]
    }
   ],
   "source": [
    "#3\n",
    "a = int(input())\n",
    "for i in range(1, a + 1):\n",
    "    if i % 2 == 0:\n",
    "        print(i)\n",
    "\n"
   ]
  },
  {
   "cell_type": "code",
   "execution_count": 32,
   "metadata": {},
   "outputs": [
    {
     "name": "stdout",
     "output_type": "stream",
     "text": [
      "4\n",
      "8\n",
      "12\n",
      "16\n",
      "20\n",
      "24\n",
      "28\n",
      "32\n",
      "36\n",
      "40\n"
     ]
    }
   ],
   "source": [
    "#4\n",
    "a = int(input())\n",
    "n = 11\n",
    "for i in range(1, n):\n",
    "    print(i*a)\n",
    "        \n",
    "\n"
   ]
  },
  {
   "cell_type": "code",
   "execution_count": 38,
   "metadata": {},
   "outputs": [],
   "source": [
    "#5\n",
    "a = int(input())\n",
    "\n",
    "while a >= 1:\n",
    "    print(a)\n",
    "    a -= 1"
   ]
  },
  {
   "cell_type": "code",
   "execution_count": 47,
   "metadata": {},
   "outputs": [
    {
     "name": "stdout",
     "output_type": "stream",
     "text": [
      "второй элемент больше\n",
      "Элементы равны\n",
      "первый элемент больше\n"
     ]
    }
   ],
   "source": [
    "#6\n",
    "while True:\n",
    "    a = input().split()\n",
    "    if a[0] == 'end':\n",
    "        break\n",
    "    list1 = list(map(int, a))\n",
    "    a = input().split()\n",
    "    if a[0] == 'end':\n",
    "        break\n",
    "    list2 = list(map(int, a))\n",
    "    \n",
    "    for i in range(len(list1)):\n",
    "        if list1[i] > list2[i]:\n",
    "            print('первый элемент больше')\n",
    "        elif list1[i] < list2[i]:\n",
    "            print('второй элемент больше')\n",
    "        else:\n",
    "            print('Элементы равны')\n"
   ]
  },
  {
   "cell_type": "code",
   "execution_count": 56,
   "metadata": {},
   "outputs": [
    {
     "name": "stdout",
     "output_type": "stream",
     "text": [
      "1 2 \n",
      "3 4 \n"
     ]
    }
   ],
   "source": [
    "#7\n",
    "a = int(input())\n",
    "\n",
    "for i in range(1, a + 1):\n",
    "    for j in range(1, a + 1):\n",
    "        print(i*a + j - a, end=' ')\n",
    "    print()"
   ]
  },
  {
   "cell_type": "code",
   "execution_count": 1,
   "metadata": {},
   "outputs": [
    {
     "name": "stdout",
     "output_type": "stream",
     "text": [
      "6\n"
     ]
    }
   ],
   "source": [
    "#8\n",
    "a = int(input())\n",
    "sum = 0\n",
    "for i in str(a):\n",
    "    sum += int(i)\n",
    "print(sum)"
   ]
  },
  {
   "cell_type": "code",
   "execution_count": 74,
   "metadata": {},
   "outputs": [
    {
     "name": "stdout",
     "output_type": "stream",
     "text": [
      "**\n"
     ]
    }
   ],
   "source": [
    "#9\n",
    "a, b = int(input()), int(input())\n",
    "\n",
    "for i in range(a):\n",
    "    for j in range(b):\n",
    "        print('*', end='')\n",
    "    print()"
   ]
  },
  {
   "cell_type": "code",
   "execution_count": 81,
   "metadata": {},
   "outputs": [
    {
     "name": "stdout",
     "output_type": "stream",
     "text": [
      "0\n",
      "1\n",
      "1\n",
      "2\n",
      "3\n",
      "5\n",
      "8\n",
      "13\n",
      "21\n",
      "34\n",
      "55\n",
      "89\n",
      "144\n",
      "233\n",
      "377\n",
      "610\n",
      "987\n",
      "1597\n",
      "2584\n",
      "4181\n",
      "6765\n",
      "10946\n",
      "17711\n",
      "28657\n",
      "46368\n",
      "75025\n",
      "121393\n",
      "196418\n",
      "317811\n",
      "514229\n",
      "832040\n",
      "1346269\n",
      "2178309\n"
     ]
    }
   ],
   "source": [
    "#10\n",
    "a = int(input())\n",
    "f, s = 0, 1\n",
    "for i in range(a):\n",
    "    print(f)\n",
    "    f, s = s, f + s"
   ]
  }
 ],
 "metadata": {
  "kernelspec": {
   "display_name": "Python 3",
   "language": "python",
   "name": "python3"
  },
  "language_info": {
   "codemirror_mode": {
    "name": "ipython",
    "version": 3
   },
   "file_extension": ".py",
   "mimetype": "text/x-python",
   "name": "python",
   "nbconvert_exporter": "python",
   "pygments_lexer": "ipython3",
   "version": "3.11.9"
  }
 },
 "nbformat": 4,
 "nbformat_minor": 2
}

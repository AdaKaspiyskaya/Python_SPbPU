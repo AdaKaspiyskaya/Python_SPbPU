{
 "cells": [
  {
   "cell_type": "markdown",
   "metadata": {
    "id": "ATjKu5B22Jc8"
   },
   "source": [
    "# Модель памяти для типов Python\n",
    "Модель памяти в Python включает работу с изменяемыми (mutable) и неизменяемыми (immutable) типами данных. Это важно для понимания, как Python управляет памятью при создании и изменении объектов. Неизменяемые типы создают новые объекты при изменении, в то время как изменяемые изменяют свой объект в памяти."
   ]
  },
  {
   "cell_type": "markdown",
   "metadata": {
    "id": "PvCtULmcse9i"
   },
   "source": [
    "# 1. Сравнение id неизменяемого типа данных\n",
    "# Задание:\n",
    "Напишите программу, которая проверяет, создаётся ли новый объект в памяти при изменении переменной с неизменяемым типом (int).\n",
    "#\n",
    "# Формат ввода:\n",
    "Одно целое число.\n",
    "#\n",
    "# Формат вывода:\n",
    "Выведите два идентификатора объекта: до изменения и после.\n",
    "id(x)"
   ]
  },
  {
   "cell_type": "code",
   "execution_count": 1,
   "metadata": {
    "id": "CX0W6dT0seSx"
   },
   "outputs": [
    {
     "name": "stdout",
     "output_type": "stream",
     "text": [
      "140716426754536\n",
      "140716426754568\n"
     ]
    }
   ],
   "source": [
    "a = int(input())\n",
    "a1 = id(a)\n",
    "a += 1\n",
    "a2 = id(a)\n",
    "print(a1, a2, sep='\\n')\n"
   ]
  },
  {
   "cell_type": "markdown",
   "metadata": {
    "id": "PXYTTJJaslK5"
   },
   "source": [
    "# 2. Сравнение id изменяемого типа данных\n",
    "# Задание:\n",
    "# Напишите программу, которая проверяет, изменяется ли объект в памяти при изменении переменной с изменяемым типом (список).\n",
    "#\n",
    "# Формат ввода:\n",
    "# Вводится список чисел через пробел.\n",
    "#\n",
    "# Формат вывода:\n",
    "# Выведите два идентификатора объекта: до изменения и после.\n"
   ]
  },
  {
   "cell_type": "code",
   "execution_count": 2,
   "metadata": {
    "id": "ae_bHicSrS8A"
   },
   "outputs": [
    {
     "name": "stdout",
     "output_type": "stream",
     "text": [
      "1280968952960\n",
      "1280968952960\n"
     ]
    }
   ],
   "source": [
    "a = list(map(int, input().split()))\n",
    "a1 = id(a)\n",
    "\n",
    "a[0] += 1\n",
    "a2 = id(a)\n",
    "print(a1, a2, sep='\\n')"
   ]
  },
  {
   "cell_type": "markdown",
   "metadata": {
    "id": "df1-uDe0sqKH"
   },
   "source": [
    "# 3. Изменение содержимого списка\n",
    "# Задание:\n",
    "# Напишите программу, которая добавляет элемент в список и выводит список до и после изменения.\n",
    "#\n",
    "# Формат ввода:\n",
    "# Вводится список чисел через пробел.\n",
    "#\n",
    "# Формат вывода:\n",
    "# Выведите список до и после добавления элемента."
   ]
  },
  {
   "cell_type": "code",
   "execution_count": 7,
   "metadata": {
    "id": "2qu3o6-ZtXHR"
   },
   "outputs": [
    {
     "name": "stdout",
     "output_type": "stream",
     "text": [
      "[1, 2, 3]\n",
      "[1, 2, 3, 1]\n",
      "1280968803008\n",
      "1280968803008\n"
     ]
    }
   ],
   "source": [
    "a = list(map(int, input().split()))\n",
    "print(a)\n",
    "a1 = id(a)\n",
    "a.append(1)\n",
    "a2 = id(a)\n",
    "print(a, a1, a2, sep='\\n')\n"
   ]
  },
  {
   "cell_type": "markdown",
   "metadata": {
    "id": "P2bEEdlKtXk_"
   },
   "source": [
    "# 4. Изменение строки (неизменяемый тип)\n",
    "# Задание:\n",
    "# Напишите программу, которая пытается изменить строку, и выведите строку до и после изменения через срезы.\n",
    "#\n",
    "# Формат ввода:\n",
    "# Вводится строка.\n",
    "#\n",
    "# Формат вывода:\n",
    "# Выведите исходную строку и новую строку после изменения."
   ]
  },
  {
   "cell_type": "code",
   "execution_count": 9,
   "metadata": {
    "id": "oPjSbtjitZ0R"
   },
   "outputs": [
    {
     "name": "stdout",
     "output_type": "stream",
     "text": [
      "hahah\n",
      "aahah\n"
     ]
    },
    {
     "ename": "TypeError",
     "evalue": "'str' object does not support item assignment",
     "output_type": "error",
     "traceback": [
      "\u001b[1;31m---------------------------------------------------------------------------\u001b[0m",
      "\u001b[1;31mTypeError\u001b[0m                                 Traceback (most recent call last)",
      "Cell \u001b[1;32mIn[9], line 6\u001b[0m\n\u001b[0;32m      2\u001b[0m b \u001b[38;5;241m=\u001b[39m \u001b[38;5;124m'\u001b[39m\u001b[38;5;124ma\u001b[39m\u001b[38;5;124m'\u001b[39m \u001b[38;5;241m+\u001b[39m a[\u001b[38;5;241m1\u001b[39m:]\n\u001b[0;32m      4\u001b[0m \u001b[38;5;28mprint\u001b[39m(a, b, sep\u001b[38;5;241m=\u001b[39m\u001b[38;5;124m'\u001b[39m\u001b[38;5;130;01m\\n\u001b[39;00m\u001b[38;5;124m'\u001b[39m)\n\u001b[1;32m----> 6\u001b[0m \u001b[43ma\u001b[49m\u001b[43m[\u001b[49m\u001b[38;5;241;43m0\u001b[39;49m\u001b[43m]\u001b[49m \u001b[38;5;241m=\u001b[39m \u001b[38;5;124m'\u001b[39m\u001b[38;5;124mъ\u001b[39m\u001b[38;5;124m'\u001b[39m \n\u001b[0;32m      7\u001b[0m \u001b[38;5;28mprint\u001b[39m(a)\n",
      "\u001b[1;31mTypeError\u001b[0m: 'str' object does not support item assignment"
     ]
    }
   ],
   "source": [
    "a = input()\n",
    "b = 'a' + a[1:]\n",
    "\n",
    "print(a, b, sep='\\n')\n",
    "\n",
    "a[0] = 'ъ' \n",
    "print(a)"
   ]
  },
  {
   "cell_type": "markdown",
   "metadata": {
    "id": "2H7Jr1R3tao0"
   },
   "source": [
    "# 5. Изменение кортежа (неизменяемый тип)\n",
    "# Задание:\n",
    "# Напишите программу, которая проверяет, можно ли изменить содержимое кортежа, если в нём есть изменяемый объект (список).\n",
    "#\n",
    "# Формат ввода:\n",
    "# Кортеж с одним изменяемым элементом (списком).\n",
    "#\n",
    "# Формат вывода:\n",
    "# Выведите кортеж до и после изменения.\n"
   ]
  },
  {
   "cell_type": "code",
   "execution_count": 10,
   "metadata": {
    "id": "v1jK_j8QteKX"
   },
   "outputs": [
    {
     "name": "stdout",
     "output_type": "stream",
     "text": [
      "(['a', 'b', 'c'],)\n",
      "(['a', 'b', 'hahah'],)\n"
     ]
    }
   ],
   "source": [
    "t = (['a', 'b', 'c'], )\n",
    "print(t, sep='\\n')\n",
    "t[0][2] = 'hahah'\n",
    "print(t)"
   ]
  },
  {
   "cell_type": "markdown",
   "metadata": {
    "id": "1wu-0qa-te-c"
   },
   "source": [
    "# 6. Сравнение поверхностной и глубокой копии\n",
    "# Задание:\n",
    "# Напишите программу, которая проверяет, как ведут себя изменяемые объекты при поверхностной и глубокой копии.\n",
    "#\n",
    "# Формат ввода:\n",
    "# Список списков.\n",
    "#\n",
    "# Формат вывода:\n",
    "# Выведите результат после изменения в исходном списке.\n",
    "\n",
    "import copy\n",
    "\n",
    "list_a = [[1, 2], [3, 4]]\n",
    "list_b = copy.copy(list_a)  # Поверхностная копия\n",
    "list_c = copy.deepcopy(list_a)  # Глубокая копия"
   ]
  },
  {
   "cell_type": "code",
   "execution_count": null,
   "metadata": {
    "id": "jSChlo2Stmk2"
   },
   "outputs": [
    {
     "name": "stdout",
     "output_type": "stream",
     "text": [
      "[[1, 2], [3, 4]]\n",
      "[[1, 2], [3, 4]]\n",
      "[[1, 2], [3, 4]]\n",
      "[[1, 'hahah'], [3, 4]]\n",
      "[[1, 'hahah'], [3, 4]]\n",
      "[[1, 2], [3, 4]]\n"
     ]
    }
   ],
   "source": [
    "# поверхностная (shallow) - создает новый объект, копирует ссылки на объекты\n",
    "# глубокая (deep) - создает новый объект и рекурсивно копирует объекты, при изменении 1 объекта - другой неизменный\n",
    "\n",
    "import copy\n",
    "\n",
    "list_a = [[1, 2], [3, 4]]\n",
    "list_b = copy.copy(list_a)  # Поверхностная копия\n",
    "list_c = copy.deepcopy(list_a)  # Глубокая копия\n",
    "print(list_a, list_b, list_c, sep='\\n')\n",
    "\n",
    "list_a[0][1] = 'hahah'\n",
    "print(list_a, list_b, list_c, sep='\\n')"
   ]
  },
  {
   "cell_type": "markdown",
   "metadata": {
    "id": "6EwhiYNjtnOX"
   },
   "source": [
    "# 7. Ловушка с изменяемыми типами данных\n",
    "# Задание:\n",
    "# Напишите программу, которая показывает, что изменяемый тип данных (список) может вести себя неожиданно при создании нескольких переменных, ссылающихся на один объект.\n",
    "#\n",
    "# Формат ввода:\n",
    "# Вводится список чисел.\n",
    "#\n",
    "# Формат вывода:\n",
    "# Выведите оба списка после изменения."
   ]
  },
  {
   "cell_type": "code",
   "execution_count": 14,
   "metadata": {
    "id": "91dSwuomtqlE"
   },
   "outputs": [
    {
     "name": "stdout",
     "output_type": "stream",
     "text": [
      "[1, 2, 3]\n",
      "[1, 2, 3]\n",
      "[1, 2, 3]\n",
      "['hahah', 2, 3]\n",
      "['hahah', 2, 3]\n",
      "['hahah', 2, 3]\n"
     ]
    }
   ],
   "source": [
    "a = list(map(int, input().split()))\n",
    "b = a\n",
    "c = a\n",
    "print(a, b, c, sep='\\n')\n",
    "\n",
    "a[0] = 'hahah'\n",
    "print(a, b, c, sep='\\n')\n",
    "\n"
   ]
  },
  {
   "cell_type": "markdown",
   "metadata": {
    "id": "DQTjRqBmtr-3"
   },
   "source": [
    "# 8. Проверка изменения словаря\n",
    "# Задание:\n",
    "# Напишите программу, которая добавляет элемент в словарь и выводит словарь до и после изменения.\n",
    "#\n",
    "# Формат ввода:\n",
    "# Исходный словарь.\n",
    "#\n",
    "# Формат вывода:\n",
    "# Выведите словарь до и после добавления нового ключа."
   ]
  },
  {
   "cell_type": "code",
   "execution_count": 18,
   "metadata": {
    "id": "450ZvorTtuLG"
   },
   "outputs": [
    {
     "name": "stdout",
     "output_type": "stream",
     "text": [
      "{'name': 'Ada', 'age': '27', 'city': 'Berlin'}\n",
      "{'name': 'Ada', 'age': '27', 'city': 'Dresden'}\n"
     ]
    }
   ],
   "source": [
    "a = {\"name\": \"Ada\",\n",
    "     \"age\": \"27\",\n",
    "     \"city\": \"Berlin\"}\n",
    "print(a)\n",
    "a[\"city\"] = \"Dresden\"\n",
    "print(a)"
   ]
  },
  {
   "cell_type": "markdown",
   "metadata": {
    "id": "kYLevaCWtvZo"
   },
   "source": [
    "# 9. Изменение строк через присваивание\n",
    "# Задание:\n",
    "# Напишите программу, которая проверяет, что строка — неизменяемый тип данных.\n",
    "#\n",
    "# Формат ввода:\n",
    "# Вводится строка.\n",
    "#\n",
    "# Формат вывода:\n",
    "# Выведите исходную строку и результат изменения."
   ]
  },
  {
   "cell_type": "code",
   "execution_count": 23,
   "metadata": {
    "id": "cTPsAtrItxgx"
   },
   "outputs": [
    {
     "name": "stdout",
     "output_type": "stream",
     "text": [
      "Ahahhh\n",
      "ты, по-моему, перепутал\n"
     ]
    }
   ],
   "source": [
    "a = input()\n",
    "print(a)\n",
    "\n",
    "try: \n",
    "    a[0] = 'h'\n",
    "except:\n",
    "    print('ты, по-моему, перепутал')\n"
   ]
  },
  {
   "cell_type": "markdown",
   "metadata": {
    "id": "Kucy2WzvtyIH"
   },
   "source": [
    "# 10. Изменение словарей (ловушка с изменяемым типом)\n",
    "# Задание:\n",
    "# Напишите программу, которая демонстрирует, как изменяемый тип данных (словарь) ведет себя при изменении через присваивание.\n",
    "#\n",
    "# Формат ввода:\n",
    "# Вводится словарь.\n",
    "#\n",
    "# Формат вывода:\n",
    "# Выведите оба словаря после изменения.\n"
   ]
  },
  {
   "cell_type": "code",
   "execution_count": 28,
   "metadata": {
    "id": "zRpKGi1Xt0bn"
   },
   "outputs": [
    {
     "name": "stdout",
     "output_type": "stream",
     "text": [
      "{'name': 'Daria', 'age': '27', 'city': 'Berlin'}\n",
      "{'name': 'Daria', 'age': '27', 'city': 'Berlin'}\n",
      "{'name': 'Ada', 'age': '27', 'city': 'Berlin'}\n",
      "{'name': 'Daria', 'age': '27', 'city': 'Berlin'}\n"
     ]
    }
   ],
   "source": [
    "a = {\"name\": \"Ada\",\n",
    "     \"age\": \"27\",\n",
    "     \"city\": \"Berlin\"}\n",
    "c = a\n",
    "c[\"name\"] = \"Daria\"\n",
    "\n",
    "m = {\"name\": \"Ada\",\n",
    "     \"age\": \"27\",\n",
    "     \"city\": \"Berlin\"}\n",
    "b = m.copy()\n",
    "b[\"name\"] = \"Daria\"\n",
    "\n",
    "print(a, c, m, b, sep='\\n')"
   ]
  }
 ],
 "metadata": {
  "colab": {
   "provenance": []
  },
  "kernelspec": {
   "display_name": "Python 3",
   "name": "python3"
  },
  "language_info": {
   "codemirror_mode": {
    "name": "ipython",
    "version": 3
   },
   "file_extension": ".py",
   "mimetype": "text/x-python",
   "name": "python",
   "nbconvert_exporter": "python",
   "pygments_lexer": "ipython3",
   "version": "3.11.9"
  }
 },
 "nbformat": 4,
 "nbformat_minor": 0
}

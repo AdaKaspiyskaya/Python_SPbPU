{
  "cells": [
    {
      "cell_type": "markdown",
      "metadata": {
        "id": "ATjKu5B22Jc8"
      },
      "source": [
        "# Функции и их особенности в Python\n",
        "\n",
        "Функция в Python всегда возвращает результат, даже если в ней нет return или присутствует return без возвращаемого значения. Тогда возвращаемый результат будет None — специальный тип данных в Python, который дословно можно перевести с английского как «ничего». Например, None возвращает функция print()"
      ]
    },
    {
      "cell_type": "markdown",
      "metadata": {
        "id": "PvCtULmcse9i"
      },
      "source": [
        "# 1. Функциональное приветствие\n",
        "Напишите функцию print_hello, которая принимает имя пользователя и выводит приветствие в стандартный поток вывода.\n",
        "\n"
      ]
    },
    {
      "cell_type": "code",
      "execution_count": 2,
      "metadata": {
        "id": "CX0W6dT0seSx"
      },
      "outputs": [
        {
          "name": "stdout",
          "output_type": "stream",
          "text": [
            "Hello, Dasha\n"
          ]
        }
      ],
      "source": [
        "print_hello = lambda name: print(f'Hello, {name}')\n",
        "print_hello('Dasha')"
      ]
    },
    {
      "cell_type": "markdown",
      "metadata": {
        "id": "PXYTTJJaslK5"
      },
      "source": [
        "# 2. Функциональный НОД\n",
        "Напишите функцию gcd, которая принимает два натуральных числа и возвращает их наибольший общий делитель.\n",
        "#\n",
        "# Формат ввода:\n",
        "В функцию подается два числа.\n",
        "#\n",
        "# Формат вывода:\n",
        "Выведите наибольший общий делитель.\n"
      ]
    },
    {
      "cell_type": "code",
      "execution_count": 4,
      "metadata": {
        "id": "ae_bHicSrS8A"
      },
      "outputs": [
        {
          "name": "stdout",
          "output_type": "stream",
          "text": [
            "34\n"
          ]
        }
      ],
      "source": [
        "def gcd(a, b):\n",
        "    if b == 0:\n",
        "        return a\n",
        "    else:\n",
        "        return gcd(b, a % b)\n",
        "    \n",
        "\n",
        "print(gcd(68, 34))"
      ]
    },
    {
      "cell_type": "markdown",
      "metadata": {
        "id": "df1-uDe0sqKH"
      },
      "source": [
        "# 3. Длина числа\n",
        "Разработайте функцию number_length, которая принимает одно целое число и возвращает его длину без учёта знака.\n",
        "\n"
      ]
    },
    {
      "cell_type": "code",
      "execution_count": 10,
      "metadata": {
        "id": "2qu3o6-ZtXHR"
      },
      "outputs": [
        {
          "name": "stdout",
          "output_type": "stream",
          "text": [
            "4\n"
          ]
        }
      ],
      "source": [
        "def number_length(n: int):\n",
        "    return(len(str(abs(n))))\n",
        "\n",
        "\n",
        "print(number_length(3333))"
      ]
    },
    {
      "cell_type": "markdown",
      "metadata": {
        "id": "P2bEEdlKtXk_"
      },
      "source": [
        "# 4.  Имя of the month\n",
        "Разработайте функцию month, которая принимает номер месяца и обозначение языка (\"ru\", \"en\") и возвращает название заданного месяца в заданном языке с заглавной буквы.\n",
        "\n",
        "Примечание\n",
        "Ваше решение должно содержать только функции.\n",
        "В решении не должно быть вызовов требуемых функций."
      ]
    },
    {
      "cell_type": "code",
      "execution_count": 16,
      "metadata": {
        "id": "oPjSbtjitZ0R"
      },
      "outputs": [
        {
          "name": "stdout",
          "output_type": "stream",
          "text": [
            "Август\n"
          ]
        }
      ],
      "source": [
        "def month(n, s):\n",
        "    months = {1: ('Январь', 'January'), 2: ('Февраль', 'February'), 3: ('Март', 'March'), 4: ('Апрель', 'April'),\n",
        "              5: ('Май', 'May'), 6: ('Июнь', 'June'), 7: ('Июль', 'July'), 8: ('Август', 'August'),\n",
        "                9: ('Сентябрь', 'September'), 10: ('Октябрь', 'October'), 11: ('Ноябрь', 'November'), 12: ('Декабрь', 'December')}\n",
        "    return months[n][('ru', 'en').index(s)]\n",
        "\n",
        "\n",
        "print(month(8, 'ru'))"
      ]
    },
    {
      "cell_type": "markdown",
      "metadata": {
        "id": "2H7Jr1R3tao0"
      },
      "source": [
        "# 5. Модернизация системы вывода\n",
        "Разработайте функцию modern_print, которая принимает строку и выводит её, если она не была выведена ранее.\n"
      ]
    },
    {
      "cell_type": "code",
      "execution_count": 18,
      "metadata": {
        "id": "v1jK_j8QteKX"
      },
      "outputs": [
        {
          "name": "stdout",
          "output_type": "stream",
          "text": [
            "a\n"
          ]
        }
      ],
      "source": [
        "def modern_print(s, printedstrings=[]):\n",
        "    if s not in printedstrings:\n",
        "        print(s)\n",
        "        printedstrings.append(s)\n",
        "\n",
        "modern_print('a')\n",
        "modern_print('a')\n",
        "modern_print('a')"
      ]
    },
    {
      "cell_type": "markdown",
      "metadata": {
        "id": "1wu-0qa-te-c"
      },
      "source": [
        "# 6. Шахматный «обед»\n",
        "Напишите функцию can_eat, которая принимает положение коня и другой фигуры в виде кортежей из двух координат, а возвращает булево значение: True если конь съедает фигуру и False если нет. В случае фигуры вне поля должно выводиться предупреждение  \"Фигура вне поля\".\n",
        "\n",
        "# Формат ввода\n",
        "Координаты в формате А1, B5\n",
        "# Формат вывода\n",
        "True, False или \"Фигура вне поля\""
      ]
    },
    {
      "cell_type": "code",
      "execution_count": 23,
      "metadata": {
        "id": "jSChlo2Stmk2"
      },
      "outputs": [
        {
          "name": "stdout",
          "output_type": "stream",
          "text": [
            "5\n"
          ]
        }
      ],
      "source": [
        "def can_eat(coord1, coord2):\n",
        "    x1, y1 = ord(coord1[0]) - 64, int(coord1[1])\n",
        "    x2, y2 = ord(coord2[0]) - 64, int(coord2[1])\n",
        "    return (x1 - x2) ** 2 + (y1 - y2) ** 2\n",
        "\n",
        "print(can_eat('A1', 'B3'))"
      ]
    },
    {
      "cell_type": "markdown",
      "metadata": {
        "id": "6EwhiYNjtnOX"
      },
      "source": [
        "# 7. Простая задача\n",
        "# Задание:\n",
        "Напишите функцию is_prime, которая принимает натуральное число, а возвращает булево значение: True — если переданное число простое, а иначе — False.\n",
        "\n",
        "# Формат ввода:\n",
        "Число\n",
        "# Формат вывода:\n",
        "Булевое значение"
      ]
    },
    {
      "cell_type": "code",
      "execution_count": null,
      "metadata": {
        "id": "91dSwuomtqlE"
      },
      "outputs": [],
      "source": []
    },
    {
      "cell_type": "markdown",
      "metadata": {
        "id": "DQTjRqBmtr-3"
      },
      "source": [
        "# 8. Слияние\n",
        "Напишите функцию merge, которая принимает два отсортированных по возрастанию кортежа целых чисел, а возвращает один из всех переданных чисел."
      ]
    },
    {
      "cell_type": "code",
      "execution_count": null,
      "metadata": {
        "id": "450ZvorTtuLG"
      },
      "outputs": [],
      "source": []
    },
    {
      "cell_type": "markdown",
      "metadata": {
        "id": "kYLevaCWtvZo"
      },
      "source": [
        "# 9. Длина числа\n",
        "Разработайте функцию number_length, которая принимает одно целое число и возвращает его длину без учёта знака."
      ]
    },
    {
      "cell_type": "code",
      "execution_count": null,
      "metadata": {
        "id": "cTPsAtrItxgx"
      },
      "outputs": [],
      "source": []
    },
    {
      "cell_type": "markdown",
      "metadata": {
        "id": "Kucy2WzvtyIH"
      },
      "source": [
        "# 10. Полиндром\n",
        "Напишите функцию is_palindrome, которая принимает натуральное число, строку, кортеж или список, а возвращает логическое значение: True — если передан палиндром, а в противном случае — False.\n",
        "\n",
        "Примечание\n",
        "\n",
        "Для определения типа параметра нужно использовать функцию isinstance.\n"
      ]
    },
    {
      "cell_type": "code",
      "execution_count": null,
      "metadata": {
        "id": "zRpKGi1Xt0bn"
      },
      "outputs": [],
      "source": []
    }
  ],
  "metadata": {
    "colab": {
      "provenance": []
    },
    "kernelspec": {
      "display_name": "Python 3",
      "name": "python3"
    },
    "language_info": {
      "codemirror_mode": {
        "name": "ipython",
        "version": 3
      },
      "file_extension": ".py",
      "mimetype": "text/x-python",
      "name": "python",
      "nbconvert_exporter": "python",
      "pygments_lexer": "ipython3",
      "version": "3.11.9"
    }
  },
  "nbformat": 4,
  "nbformat_minor": 0
}
